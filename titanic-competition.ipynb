{
 "cells": [
  {
   "cell_type": "markdown",
   "id": "5e016e99",
   "metadata": {
    "execution": {
     "iopub.execute_input": "2022-06-06T12:38:29.858745Z",
     "iopub.status.busy": "2022-06-06T12:38:29.858288Z",
     "iopub.status.idle": "2022-06-06T12:38:29.862995Z",
     "shell.execute_reply": "2022-06-06T12:38:29.862264Z",
     "shell.execute_reply.started": "2022-06-06T12:38:29.858711Z"
    },
    "papermill": {
     "duration": 0.026533,
     "end_time": "2022-06-09T14:17:47.446458",
     "exception": false,
     "start_time": "2022-06-09T14:17:47.419925",
     "status": "completed"
    },
    "tags": []
   },
   "source": [
    "# Titanic Shipwreck Competition\n",
    "\n",
    "# Problem Statement\n",
    "- The aim is to use Machine Learning to create a predictive model, using passenger data (i.e., name, age, gender, socio-economic class, etc), that answers the question, *\"What types of people were more likely to survive?\"*\n",
    "\n",
    "- Dataset columns:\n",
    "    1. Survival : 0 = No, 1 = Yes\n",
    "    2. Pclass - Ticket Class : 1 = 1st, 2 = 2nd, 3 = 3rd\n",
    "    3. Sex - gender\n",
    "    4. Age -  in years\n",
    "    5. sibsp : # of siblings / spouses aboard the Titanic\n",
    "    6. parch : # of parents / children aboard the Titanic\n",
    "    7. ticket - Ticket Number\n",
    "    8. fare - Passeneger fare\n",
    "    9. cabin - Cabin Number\n",
    "    10. embarked : Port of Embarkation; C = Cherbourg, Q = Queenstown, S = Southampton"
   ]
  },
  {
   "cell_type": "code",
   "execution_count": 1,
   "id": "8a3273ba",
   "metadata": {
    "execution": {
     "iopub.execute_input": "2022-06-09T14:17:47.502061Z",
     "iopub.status.busy": "2022-06-09T14:17:47.501281Z",
     "iopub.status.idle": "2022-06-09T14:17:48.977280Z",
     "shell.execute_reply": "2022-06-09T14:17:48.976230Z"
    },
    "papermill": {
     "duration": 1.506137,
     "end_time": "2022-06-09T14:17:48.980150",
     "exception": false,
     "start_time": "2022-06-09T14:17:47.474013",
     "status": "completed"
    },
    "tags": []
   },
   "outputs": [],
   "source": [
    "## Import libraries\n",
    "\n",
    "import numpy as np\n",
    "import pandas as pd\n",
    "import seaborn as sns\n",
    "\n",
    "import matplotlib.pyplot as plt\n",
    "# to have plots in notebook\n",
    "%matplotlib inline "
   ]
  },
  {
   "cell_type": "markdown",
   "id": "b6f55895",
   "metadata": {
    "papermill": {
     "duration": 0.024646,
     "end_time": "2022-06-09T14:17:49.029070",
     "exception": false,
     "start_time": "2022-06-09T14:17:49.004424",
     "status": "completed"
    },
    "tags": []
   },
   "source": [
    "- The goal is to train a model on the Train Dataset, get an optimal model and use it on the Test Dataset."
   ]
  },
  {
   "cell_type": "code",
   "execution_count": 2,
   "id": "e76cb702",
   "metadata": {
    "execution": {
     "iopub.execute_input": "2022-06-09T14:17:49.081135Z",
     "iopub.status.busy": "2022-06-09T14:17:49.080460Z",
     "iopub.status.idle": "2022-06-09T14:17:49.100225Z",
     "shell.execute_reply": "2022-06-09T14:17:49.099423Z"
    },
    "papermill": {
     "duration": 0.049207,
     "end_time": "2022-06-09T14:17:49.102676",
     "exception": false,
     "start_time": "2022-06-09T14:17:49.053469",
     "status": "completed"
    },
    "tags": []
   },
   "outputs": [],
   "source": [
    "train_data = pd.read_csv(\"../input/titanic/train.csv\")"
   ]
  },
  {
   "cell_type": "markdown",
   "id": "7c0a7172",
   "metadata": {
    "papermill": {
     "duration": 0.024082,
     "end_time": "2022-06-09T14:17:49.151241",
     "exception": false,
     "start_time": "2022-06-09T14:17:49.127159",
     "status": "completed"
    },
    "tags": []
   },
   "source": [
    "## Exploratory Data Analysis"
   ]
  },
  {
   "cell_type": "markdown",
   "id": "3c051d6f",
   "metadata": {
    "papermill": {
     "duration": 0.024034,
     "end_time": "2022-06-09T14:17:49.199540",
     "exception": false,
     "start_time": "2022-06-09T14:17:49.175506",
     "status": "completed"
    },
    "tags": []
   },
   "source": [
    "### File Structure and Content"
   ]
  },
  {
   "cell_type": "code",
   "execution_count": 3,
   "id": "6d11c982",
   "metadata": {
    "execution": {
     "iopub.execute_input": "2022-06-09T14:17:49.250743Z",
     "iopub.status.busy": "2022-06-09T14:17:49.250061Z",
     "iopub.status.idle": "2022-06-09T14:17:49.274557Z",
     "shell.execute_reply": "2022-06-09T14:17:49.273738Z"
    },
    "papermill": {
     "duration": 0.052968,
     "end_time": "2022-06-09T14:17:49.277179",
     "exception": false,
     "start_time": "2022-06-09T14:17:49.224211",
     "status": "completed"
    },
    "scrolled": true,
    "tags": []
   },
   "outputs": [
    {
     "data": {
      "text/html": [
       "<div>\n",
       "<style scoped>\n",
       "    .dataframe tbody tr th:only-of-type {\n",
       "        vertical-align: middle;\n",
       "    }\n",
       "\n",
       "    .dataframe tbody tr th {\n",
       "        vertical-align: top;\n",
       "    }\n",
       "\n",
       "    .dataframe thead th {\n",
       "        text-align: right;\n",
       "    }\n",
       "</style>\n",
       "<table border=\"1\" class=\"dataframe\">\n",
       "  <thead>\n",
       "    <tr style=\"text-align: right;\">\n",
       "      <th></th>\n",
       "      <th>PassengerId</th>\n",
       "      <th>Survived</th>\n",
       "      <th>Pclass</th>\n",
       "      <th>Name</th>\n",
       "      <th>Sex</th>\n",
       "      <th>Age</th>\n",
       "      <th>SibSp</th>\n",
       "      <th>Parch</th>\n",
       "      <th>Ticket</th>\n",
       "      <th>Fare</th>\n",
       "      <th>Cabin</th>\n",
       "      <th>Embarked</th>\n",
       "    </tr>\n",
       "  </thead>\n",
       "  <tbody>\n",
       "    <tr>\n",
       "      <th>0</th>\n",
       "      <td>1</td>\n",
       "      <td>0</td>\n",
       "      <td>3</td>\n",
       "      <td>Braund, Mr. Owen Harris</td>\n",
       "      <td>male</td>\n",
       "      <td>22.0</td>\n",
       "      <td>1</td>\n",
       "      <td>0</td>\n",
       "      <td>A/5 21171</td>\n",
       "      <td>7.2500</td>\n",
       "      <td>NaN</td>\n",
       "      <td>S</td>\n",
       "    </tr>\n",
       "    <tr>\n",
       "      <th>1</th>\n",
       "      <td>2</td>\n",
       "      <td>1</td>\n",
       "      <td>1</td>\n",
       "      <td>Cumings, Mrs. John Bradley (Florence Briggs Th...</td>\n",
       "      <td>female</td>\n",
       "      <td>38.0</td>\n",
       "      <td>1</td>\n",
       "      <td>0</td>\n",
       "      <td>PC 17599</td>\n",
       "      <td>71.2833</td>\n",
       "      <td>C85</td>\n",
       "      <td>C</td>\n",
       "    </tr>\n",
       "    <tr>\n",
       "      <th>2</th>\n",
       "      <td>3</td>\n",
       "      <td>1</td>\n",
       "      <td>3</td>\n",
       "      <td>Heikkinen, Miss. Laina</td>\n",
       "      <td>female</td>\n",
       "      <td>26.0</td>\n",
       "      <td>0</td>\n",
       "      <td>0</td>\n",
       "      <td>STON/O2. 3101282</td>\n",
       "      <td>7.9250</td>\n",
       "      <td>NaN</td>\n",
       "      <td>S</td>\n",
       "    </tr>\n",
       "  </tbody>\n",
       "</table>\n",
       "</div>"
      ],
      "text/plain": [
       "   PassengerId  Survived  Pclass  \\\n",
       "0            1         0       3   \n",
       "1            2         1       1   \n",
       "2            3         1       3   \n",
       "\n",
       "                                                Name     Sex   Age  SibSp  \\\n",
       "0                            Braund, Mr. Owen Harris    male  22.0      1   \n",
       "1  Cumings, Mrs. John Bradley (Florence Briggs Th...  female  38.0      1   \n",
       "2                             Heikkinen, Miss. Laina  female  26.0      0   \n",
       "\n",
       "   Parch            Ticket     Fare Cabin Embarked  \n",
       "0      0         A/5 21171   7.2500   NaN        S  \n",
       "1      0          PC 17599  71.2833   C85        C  \n",
       "2      0  STON/O2. 3101282   7.9250   NaN        S  "
      ]
     },
     "execution_count": 3,
     "metadata": {},
     "output_type": "execute_result"
    }
   ],
   "source": [
    "train_data.head(3)"
   ]
  },
  {
   "cell_type": "code",
   "execution_count": 4,
   "id": "293b14e7",
   "metadata": {
    "execution": {
     "iopub.execute_input": "2022-06-09T14:17:49.329886Z",
     "iopub.status.busy": "2022-06-09T14:17:49.329264Z",
     "iopub.status.idle": "2022-06-09T14:17:49.336446Z",
     "shell.execute_reply": "2022-06-09T14:17:49.335648Z"
    },
    "papermill": {
     "duration": 0.036637,
     "end_time": "2022-06-09T14:17:49.338633",
     "exception": false,
     "start_time": "2022-06-09T14:17:49.301996",
     "status": "completed"
    },
    "tags": []
   },
   "outputs": [
    {
     "data": {
      "text/plain": [
       "PassengerId      int64\n",
       "Survived         int64\n",
       "Pclass           int64\n",
       "Name            object\n",
       "Sex             object\n",
       "Age            float64\n",
       "SibSp            int64\n",
       "Parch            int64\n",
       "Ticket          object\n",
       "Fare           float64\n",
       "Cabin           object\n",
       "Embarked        object\n",
       "dtype: object"
      ]
     },
     "execution_count": 4,
     "metadata": {},
     "output_type": "execute_result"
    }
   ],
   "source": [
    "train_data.dtypes"
   ]
  },
  {
   "cell_type": "markdown",
   "id": "c19ec83a",
   "metadata": {
    "papermill": {
     "duration": 0.024871,
     "end_time": "2022-06-09T14:17:49.388194",
     "exception": false,
     "start_time": "2022-06-09T14:17:49.363323",
     "status": "completed"
    },
    "tags": []
   },
   "source": [
    "- Columns with object data types = Name,Sex,Ticket, Cabin and Embarked.\n",
    "- Rest of the columns with numerical data types."
   ]
  },
  {
   "cell_type": "code",
   "execution_count": 5,
   "id": "035b4b48",
   "metadata": {
    "execution": {
     "iopub.execute_input": "2022-06-09T14:17:49.439557Z",
     "iopub.status.busy": "2022-06-09T14:17:49.439111Z",
     "iopub.status.idle": "2022-06-09T14:17:49.445156Z",
     "shell.execute_reply": "2022-06-09T14:17:49.443649Z"
    },
    "papermill": {
     "duration": 0.035933,
     "end_time": "2022-06-09T14:17:49.448488",
     "exception": false,
     "start_time": "2022-06-09T14:17:49.412555",
     "status": "completed"
    },
    "tags": []
   },
   "outputs": [
    {
     "name": "stdout",
     "output_type": "stream",
     "text": [
      "We have 891 rows.\n",
      "We have 12 columns\n"
     ]
    }
   ],
   "source": [
    "# Shape of the data\n",
    "\n",
    "print('We have {} rows.'.format(train_data.shape[0]))\n",
    "print('We have {} columns'.format(train_data.shape[1]))"
   ]
  },
  {
   "cell_type": "code",
   "execution_count": 6,
   "id": "37e23bf2",
   "metadata": {
    "execution": {
     "iopub.execute_input": "2022-06-09T14:17:49.502076Z",
     "iopub.status.busy": "2022-06-09T14:17:49.501069Z",
     "iopub.status.idle": "2022-06-09T14:17:49.546883Z",
     "shell.execute_reply": "2022-06-09T14:17:49.545591Z"
    },
    "papermill": {
     "duration": 0.075009,
     "end_time": "2022-06-09T14:17:49.549386",
     "exception": false,
     "start_time": "2022-06-09T14:17:49.474377",
     "status": "completed"
    },
    "tags": []
   },
   "outputs": [
    {
     "data": {
      "text/html": [
       "<div>\n",
       "<style scoped>\n",
       "    .dataframe tbody tr th:only-of-type {\n",
       "        vertical-align: middle;\n",
       "    }\n",
       "\n",
       "    .dataframe tbody tr th {\n",
       "        vertical-align: top;\n",
       "    }\n",
       "\n",
       "    .dataframe thead th {\n",
       "        text-align: right;\n",
       "    }\n",
       "</style>\n",
       "<table border=\"1\" class=\"dataframe\">\n",
       "  <thead>\n",
       "    <tr style=\"text-align: right;\">\n",
       "      <th></th>\n",
       "      <th>PassengerId</th>\n",
       "      <th>Survived</th>\n",
       "      <th>Pclass</th>\n",
       "      <th>Age</th>\n",
       "      <th>SibSp</th>\n",
       "      <th>Parch</th>\n",
       "      <th>Fare</th>\n",
       "    </tr>\n",
       "  </thead>\n",
       "  <tbody>\n",
       "    <tr>\n",
       "      <th>count</th>\n",
       "      <td>891.000000</td>\n",
       "      <td>891.000000</td>\n",
       "      <td>891.000000</td>\n",
       "      <td>714.000000</td>\n",
       "      <td>891.000000</td>\n",
       "      <td>891.000000</td>\n",
       "      <td>891.000000</td>\n",
       "    </tr>\n",
       "    <tr>\n",
       "      <th>mean</th>\n",
       "      <td>446.000000</td>\n",
       "      <td>0.383838</td>\n",
       "      <td>2.308642</td>\n",
       "      <td>29.699118</td>\n",
       "      <td>0.523008</td>\n",
       "      <td>0.381594</td>\n",
       "      <td>32.204208</td>\n",
       "    </tr>\n",
       "    <tr>\n",
       "      <th>std</th>\n",
       "      <td>257.353842</td>\n",
       "      <td>0.486592</td>\n",
       "      <td>0.836071</td>\n",
       "      <td>14.526497</td>\n",
       "      <td>1.102743</td>\n",
       "      <td>0.806057</td>\n",
       "      <td>49.693429</td>\n",
       "    </tr>\n",
       "    <tr>\n",
       "      <th>min</th>\n",
       "      <td>1.000000</td>\n",
       "      <td>0.000000</td>\n",
       "      <td>1.000000</td>\n",
       "      <td>0.420000</td>\n",
       "      <td>0.000000</td>\n",
       "      <td>0.000000</td>\n",
       "      <td>0.000000</td>\n",
       "    </tr>\n",
       "    <tr>\n",
       "      <th>25%</th>\n",
       "      <td>223.500000</td>\n",
       "      <td>0.000000</td>\n",
       "      <td>2.000000</td>\n",
       "      <td>20.125000</td>\n",
       "      <td>0.000000</td>\n",
       "      <td>0.000000</td>\n",
       "      <td>7.910400</td>\n",
       "    </tr>\n",
       "    <tr>\n",
       "      <th>50%</th>\n",
       "      <td>446.000000</td>\n",
       "      <td>0.000000</td>\n",
       "      <td>3.000000</td>\n",
       "      <td>28.000000</td>\n",
       "      <td>0.000000</td>\n",
       "      <td>0.000000</td>\n",
       "      <td>14.454200</td>\n",
       "    </tr>\n",
       "    <tr>\n",
       "      <th>75%</th>\n",
       "      <td>668.500000</td>\n",
       "      <td>1.000000</td>\n",
       "      <td>3.000000</td>\n",
       "      <td>38.000000</td>\n",
       "      <td>1.000000</td>\n",
       "      <td>0.000000</td>\n",
       "      <td>31.000000</td>\n",
       "    </tr>\n",
       "    <tr>\n",
       "      <th>max</th>\n",
       "      <td>891.000000</td>\n",
       "      <td>1.000000</td>\n",
       "      <td>3.000000</td>\n",
       "      <td>80.000000</td>\n",
       "      <td>8.000000</td>\n",
       "      <td>6.000000</td>\n",
       "      <td>512.329200</td>\n",
       "    </tr>\n",
       "  </tbody>\n",
       "</table>\n",
       "</div>"
      ],
      "text/plain": [
       "       PassengerId    Survived      Pclass         Age       SibSp  \\\n",
       "count   891.000000  891.000000  891.000000  714.000000  891.000000   \n",
       "mean    446.000000    0.383838    2.308642   29.699118    0.523008   \n",
       "std     257.353842    0.486592    0.836071   14.526497    1.102743   \n",
       "min       1.000000    0.000000    1.000000    0.420000    0.000000   \n",
       "25%     223.500000    0.000000    2.000000   20.125000    0.000000   \n",
       "50%     446.000000    0.000000    3.000000   28.000000    0.000000   \n",
       "75%     668.500000    1.000000    3.000000   38.000000    1.000000   \n",
       "max     891.000000    1.000000    3.000000   80.000000    8.000000   \n",
       "\n",
       "            Parch        Fare  \n",
       "count  891.000000  891.000000  \n",
       "mean     0.381594   32.204208  \n",
       "std      0.806057   49.693429  \n",
       "min      0.000000    0.000000  \n",
       "25%      0.000000    7.910400  \n",
       "50%      0.000000   14.454200  \n",
       "75%      0.000000   31.000000  \n",
       "max      6.000000  512.329200  "
      ]
     },
     "execution_count": 6,
     "metadata": {},
     "output_type": "execute_result"
    }
   ],
   "source": [
    "# statistical summary of each column of train data\n",
    "\n",
    "train_data.describe()\n"
   ]
  },
  {
   "cell_type": "code",
   "execution_count": 7,
   "id": "b1d79d17",
   "metadata": {
    "execution": {
     "iopub.execute_input": "2022-06-09T14:17:49.602130Z",
     "iopub.status.busy": "2022-06-09T14:17:49.601748Z",
     "iopub.status.idle": "2022-06-09T14:17:49.618639Z",
     "shell.execute_reply": "2022-06-09T14:17:49.617649Z"
    },
    "papermill": {
     "duration": 0.046298,
     "end_time": "2022-06-09T14:17:49.620817",
     "exception": false,
     "start_time": "2022-06-09T14:17:49.574519",
     "status": "completed"
    },
    "tags": []
   },
   "outputs": [
    {
     "data": {
      "text/html": [
       "<div>\n",
       "<style scoped>\n",
       "    .dataframe tbody tr th:only-of-type {\n",
       "        vertical-align: middle;\n",
       "    }\n",
       "\n",
       "    .dataframe tbody tr th {\n",
       "        vertical-align: top;\n",
       "    }\n",
       "\n",
       "    .dataframe thead th {\n",
       "        text-align: right;\n",
       "    }\n",
       "</style>\n",
       "<table border=\"1\" class=\"dataframe\">\n",
       "  <thead>\n",
       "    <tr style=\"text-align: right;\">\n",
       "      <th></th>\n",
       "      <th>PassengerId</th>\n",
       "      <th>Survived</th>\n",
       "      <th>Pclass</th>\n",
       "      <th>Age</th>\n",
       "      <th>SibSp</th>\n",
       "      <th>Parch</th>\n",
       "      <th>Fare</th>\n",
       "    </tr>\n",
       "  </thead>\n",
       "  <tbody>\n",
       "    <tr>\n",
       "      <th>PassengerId</th>\n",
       "      <td>1.000000</td>\n",
       "      <td>-0.005007</td>\n",
       "      <td>-0.035144</td>\n",
       "      <td>0.036847</td>\n",
       "      <td>-0.057527</td>\n",
       "      <td>-0.001652</td>\n",
       "      <td>0.012658</td>\n",
       "    </tr>\n",
       "    <tr>\n",
       "      <th>Survived</th>\n",
       "      <td>-0.005007</td>\n",
       "      <td>1.000000</td>\n",
       "      <td>-0.338481</td>\n",
       "      <td>-0.077221</td>\n",
       "      <td>-0.035322</td>\n",
       "      <td>0.081629</td>\n",
       "      <td>0.257307</td>\n",
       "    </tr>\n",
       "    <tr>\n",
       "      <th>Pclass</th>\n",
       "      <td>-0.035144</td>\n",
       "      <td>-0.338481</td>\n",
       "      <td>1.000000</td>\n",
       "      <td>-0.369226</td>\n",
       "      <td>0.083081</td>\n",
       "      <td>0.018443</td>\n",
       "      <td>-0.549500</td>\n",
       "    </tr>\n",
       "    <tr>\n",
       "      <th>Age</th>\n",
       "      <td>0.036847</td>\n",
       "      <td>-0.077221</td>\n",
       "      <td>-0.369226</td>\n",
       "      <td>1.000000</td>\n",
       "      <td>-0.308247</td>\n",
       "      <td>-0.189119</td>\n",
       "      <td>0.096067</td>\n",
       "    </tr>\n",
       "    <tr>\n",
       "      <th>SibSp</th>\n",
       "      <td>-0.057527</td>\n",
       "      <td>-0.035322</td>\n",
       "      <td>0.083081</td>\n",
       "      <td>-0.308247</td>\n",
       "      <td>1.000000</td>\n",
       "      <td>0.414838</td>\n",
       "      <td>0.159651</td>\n",
       "    </tr>\n",
       "    <tr>\n",
       "      <th>Parch</th>\n",
       "      <td>-0.001652</td>\n",
       "      <td>0.081629</td>\n",
       "      <td>0.018443</td>\n",
       "      <td>-0.189119</td>\n",
       "      <td>0.414838</td>\n",
       "      <td>1.000000</td>\n",
       "      <td>0.216225</td>\n",
       "    </tr>\n",
       "    <tr>\n",
       "      <th>Fare</th>\n",
       "      <td>0.012658</td>\n",
       "      <td>0.257307</td>\n",
       "      <td>-0.549500</td>\n",
       "      <td>0.096067</td>\n",
       "      <td>0.159651</td>\n",
       "      <td>0.216225</td>\n",
       "      <td>1.000000</td>\n",
       "    </tr>\n",
       "  </tbody>\n",
       "</table>\n",
       "</div>"
      ],
      "text/plain": [
       "             PassengerId  Survived    Pclass       Age     SibSp     Parch  \\\n",
       "PassengerId     1.000000 -0.005007 -0.035144  0.036847 -0.057527 -0.001652   \n",
       "Survived       -0.005007  1.000000 -0.338481 -0.077221 -0.035322  0.081629   \n",
       "Pclass         -0.035144 -0.338481  1.000000 -0.369226  0.083081  0.018443   \n",
       "Age             0.036847 -0.077221 -0.369226  1.000000 -0.308247 -0.189119   \n",
       "SibSp          -0.057527 -0.035322  0.083081 -0.308247  1.000000  0.414838   \n",
       "Parch          -0.001652  0.081629  0.018443 -0.189119  0.414838  1.000000   \n",
       "Fare            0.012658  0.257307 -0.549500  0.096067  0.159651  0.216225   \n",
       "\n",
       "                 Fare  \n",
       "PassengerId  0.012658  \n",
       "Survived     0.257307  \n",
       "Pclass      -0.549500  \n",
       "Age          0.096067  \n",
       "SibSp        0.159651  \n",
       "Parch        0.216225  \n",
       "Fare         1.000000  "
      ]
     },
     "execution_count": 7,
     "metadata": {},
     "output_type": "execute_result"
    }
   ],
   "source": [
    "# train data correlation between columns - used to describe the relationship between different columns \n",
    "# which are also used as features of the dataset\n",
    "\n",
    "train_data.corr()"
   ]
  },
  {
   "cell_type": "markdown",
   "id": "50d0e4d6",
   "metadata": {
    "papermill": {
     "duration": 0.024957,
     "end_time": "2022-06-09T14:17:49.671254",
     "exception": false,
     "start_time": "2022-06-09T14:17:49.646297",
     "status": "completed"
    },
    "tags": []
   },
   "source": [
    "- Negative correlation between survival and passenger class, age and sibsp, i.e. the higher the value the lower the chances of survival.\n",
    "- Positive corrrelation between survival and Parch and Fare, i.e. the lower the value the lower the chances of survival.\n"
   ]
  },
  {
   "cell_type": "markdown",
   "id": "684aefc8",
   "metadata": {
    "papermill": {
     "duration": 0.025826,
     "end_time": "2022-06-09T14:17:49.722825",
     "exception": false,
     "start_time": "2022-06-09T14:17:49.696999",
     "status": "completed"
    },
    "tags": []
   },
   "source": [
    "### Missing Value Analysis"
   ]
  },
  {
   "cell_type": "code",
   "execution_count": 8,
   "id": "7e8ea92d",
   "metadata": {
    "execution": {
     "iopub.execute_input": "2022-06-09T14:17:49.776598Z",
     "iopub.status.busy": "2022-06-09T14:17:49.775670Z",
     "iopub.status.idle": "2022-06-09T14:17:49.784215Z",
     "shell.execute_reply": "2022-06-09T14:17:49.783433Z"
    },
    "papermill": {
     "duration": 0.037259,
     "end_time": "2022-06-09T14:17:49.786262",
     "exception": false,
     "start_time": "2022-06-09T14:17:49.749003",
     "status": "completed"
    },
    "tags": []
   },
   "outputs": [
    {
     "data": {
      "text/plain": [
       "PassengerId      0\n",
       "Survived         0\n",
       "Pclass           0\n",
       "Name             0\n",
       "Sex              0\n",
       "Age            177\n",
       "SibSp            0\n",
       "Parch            0\n",
       "Ticket           0\n",
       "Fare             0\n",
       "Cabin          687\n",
       "Embarked         2\n",
       "dtype: int64"
      ]
     },
     "execution_count": 8,
     "metadata": {},
     "output_type": "execute_result"
    }
   ],
   "source": [
    "train_data.isna().sum()"
   ]
  },
  {
   "cell_type": "markdown",
   "id": "11504d4f",
   "metadata": {
    "execution": {
     "iopub.execute_input": "2022-05-31T05:29:55.984557Z",
     "iopub.status.busy": "2022-05-31T05:29:55.984084Z",
     "iopub.status.idle": "2022-05-31T05:29:55.992636Z",
     "shell.execute_reply": "2022-05-31T05:29:55.991949Z",
     "shell.execute_reply.started": "2022-05-31T05:29:55.98452Z"
    },
    "papermill": {
     "duration": 0.025483,
     "end_time": "2022-06-09T14:17:49.838641",
     "exception": false,
     "start_time": "2022-06-09T14:17:49.813158",
     "status": "completed"
    },
    "tags": []
   },
   "source": [
    "- Missing values for columns, Age (float), Cabin (object) and Embarked (object).\n",
    "- Goal is to use the mode value for categorical data, and the mean value for numerical data."
   ]
  },
  {
   "cell_type": "markdown",
   "id": "ade111f3",
   "metadata": {
    "papermill": {
     "duration": 0.025472,
     "end_time": "2022-06-09T14:17:49.890090",
     "exception": false,
     "start_time": "2022-06-09T14:17:49.864618",
     "status": "completed"
    },
    "tags": []
   },
   "source": [
    "#### Will replace Embarked column with mode value."
   ]
  },
  {
   "cell_type": "code",
   "execution_count": 9,
   "id": "fcf473e7",
   "metadata": {
    "execution": {
     "iopub.execute_input": "2022-06-09T14:17:49.946360Z",
     "iopub.status.busy": "2022-06-09T14:17:49.945635Z",
     "iopub.status.idle": "2022-06-09T14:17:49.953650Z",
     "shell.execute_reply": "2022-06-09T14:17:49.952787Z"
    },
    "papermill": {
     "duration": 0.038718,
     "end_time": "2022-06-09T14:17:49.956011",
     "exception": false,
     "start_time": "2022-06-09T14:17:49.917293",
     "status": "completed"
    },
    "tags": []
   },
   "outputs": [
    {
     "data": {
      "text/plain": [
       "S    644\n",
       "C    168\n",
       "Q     77\n",
       "Name: Embarked, dtype: int64"
      ]
     },
     "execution_count": 9,
     "metadata": {},
     "output_type": "execute_result"
    }
   ],
   "source": [
    "train_data['Embarked'].value_counts()"
   ]
  },
  {
   "cell_type": "markdown",
   "id": "3546eb9d",
   "metadata": {
    "papermill": {
     "duration": 0.025655,
     "end_time": "2022-06-09T14:17:50.008018",
     "exception": false,
     "start_time": "2022-06-09T14:17:49.982363",
     "status": "completed"
    },
    "tags": []
   },
   "source": [
    "- Most passengers embarked from Southampton  ('s')"
   ]
  },
  {
   "cell_type": "code",
   "execution_count": 10,
   "id": "e869de08",
   "metadata": {
    "execution": {
     "iopub.execute_input": "2022-06-09T14:17:50.066371Z",
     "iopub.status.busy": "2022-06-09T14:17:50.064863Z",
     "iopub.status.idle": "2022-06-09T14:17:50.071247Z",
     "shell.execute_reply": "2022-06-09T14:17:50.070428Z"
    },
    "papermill": {
     "duration": 0.038204,
     "end_time": "2022-06-09T14:17:50.073609",
     "exception": false,
     "start_time": "2022-06-09T14:17:50.035405",
     "status": "completed"
    },
    "tags": []
   },
   "outputs": [],
   "source": [
    "emb_mode_val = train_data['Embarked'].mode()[0]"
   ]
  },
  {
   "cell_type": "code",
   "execution_count": 11,
   "id": "58e443a1",
   "metadata": {
    "execution": {
     "iopub.execute_input": "2022-06-09T14:17:50.127790Z",
     "iopub.status.busy": "2022-06-09T14:17:50.127123Z",
     "iopub.status.idle": "2022-06-09T14:17:50.133511Z",
     "shell.execute_reply": "2022-06-09T14:17:50.132425Z"
    },
    "papermill": {
     "duration": 0.035283,
     "end_time": "2022-06-09T14:17:50.135741",
     "exception": false,
     "start_time": "2022-06-09T14:17:50.100458",
     "status": "completed"
    },
    "tags": []
   },
   "outputs": [],
   "source": [
    "train_data['Embarked'] = train_data['Embarked'].fillna(emb_mode_val)"
   ]
  },
  {
   "cell_type": "markdown",
   "id": "dd7f439a",
   "metadata": {
    "papermill": {
     "duration": 0.025989,
     "end_time": "2022-06-09T14:17:50.187423",
     "exception": false,
     "start_time": "2022-06-09T14:17:50.161434",
     "status": "completed"
    },
    "tags": []
   },
   "source": [
    "#### Will replace Age column with mean value, rounded up.\n"
   ]
  },
  {
   "cell_type": "code",
   "execution_count": 12,
   "id": "3b4bbd7c",
   "metadata": {
    "execution": {
     "iopub.execute_input": "2022-06-09T14:17:50.241537Z",
     "iopub.status.busy": "2022-06-09T14:17:50.241112Z",
     "iopub.status.idle": "2022-06-09T14:17:50.259588Z",
     "shell.execute_reply": "2022-06-09T14:17:50.258597Z"
    },
    "papermill": {
     "duration": 0.047346,
     "end_time": "2022-06-09T14:17:50.261806",
     "exception": false,
     "start_time": "2022-06-09T14:17:50.214460",
     "status": "completed"
    },
    "tags": []
   },
   "outputs": [
    {
     "data": {
      "text/html": [
       "<div>\n",
       "<style scoped>\n",
       "    .dataframe tbody tr th:only-of-type {\n",
       "        vertical-align: middle;\n",
       "    }\n",
       "\n",
       "    .dataframe tbody tr th {\n",
       "        vertical-align: top;\n",
       "    }\n",
       "\n",
       "    .dataframe thead th {\n",
       "        text-align: right;\n",
       "    }\n",
       "</style>\n",
       "<table border=\"1\" class=\"dataframe\">\n",
       "  <thead>\n",
       "    <tr style=\"text-align: right;\">\n",
       "      <th></th>\n",
       "      <th>Name</th>\n",
       "      <th>Age</th>\n",
       "    </tr>\n",
       "  </thead>\n",
       "  <tbody>\n",
       "    <tr>\n",
       "      <th>5</th>\n",
       "      <td>Moran, Mr. James</td>\n",
       "      <td>NaN</td>\n",
       "    </tr>\n",
       "    <tr>\n",
       "      <th>17</th>\n",
       "      <td>Williams, Mr. Charles Eugene</td>\n",
       "      <td>NaN</td>\n",
       "    </tr>\n",
       "    <tr>\n",
       "      <th>19</th>\n",
       "      <td>Masselmani, Mrs. Fatima</td>\n",
       "      <td>NaN</td>\n",
       "    </tr>\n",
       "    <tr>\n",
       "      <th>26</th>\n",
       "      <td>Emir, Mr. Farred Chehab</td>\n",
       "      <td>NaN</td>\n",
       "    </tr>\n",
       "    <tr>\n",
       "      <th>28</th>\n",
       "      <td>O'Dwyer, Miss. Ellen \"Nellie\"</td>\n",
       "      <td>NaN</td>\n",
       "    </tr>\n",
       "    <tr>\n",
       "      <th>...</th>\n",
       "      <td>...</td>\n",
       "      <td>...</td>\n",
       "    </tr>\n",
       "    <tr>\n",
       "      <th>859</th>\n",
       "      <td>Razi, Mr. Raihed</td>\n",
       "      <td>NaN</td>\n",
       "    </tr>\n",
       "    <tr>\n",
       "      <th>863</th>\n",
       "      <td>Sage, Miss. Dorothy Edith \"Dolly\"</td>\n",
       "      <td>NaN</td>\n",
       "    </tr>\n",
       "    <tr>\n",
       "      <th>868</th>\n",
       "      <td>van Melkebeke, Mr. Philemon</td>\n",
       "      <td>NaN</td>\n",
       "    </tr>\n",
       "    <tr>\n",
       "      <th>878</th>\n",
       "      <td>Laleff, Mr. Kristo</td>\n",
       "      <td>NaN</td>\n",
       "    </tr>\n",
       "    <tr>\n",
       "      <th>888</th>\n",
       "      <td>Johnston, Miss. Catherine Helen \"Carrie\"</td>\n",
       "      <td>NaN</td>\n",
       "    </tr>\n",
       "  </tbody>\n",
       "</table>\n",
       "<p>177 rows × 2 columns</p>\n",
       "</div>"
      ],
      "text/plain": [
       "                                         Name  Age\n",
       "5                            Moran, Mr. James  NaN\n",
       "17               Williams, Mr. Charles Eugene  NaN\n",
       "19                    Masselmani, Mrs. Fatima  NaN\n",
       "26                    Emir, Mr. Farred Chehab  NaN\n",
       "28              O'Dwyer, Miss. Ellen \"Nellie\"  NaN\n",
       "..                                        ...  ...\n",
       "859                          Razi, Mr. Raihed  NaN\n",
       "863         Sage, Miss. Dorothy Edith \"Dolly\"  NaN\n",
       "868               van Melkebeke, Mr. Philemon  NaN\n",
       "878                        Laleff, Mr. Kristo  NaN\n",
       "888  Johnston, Miss. Catherine Helen \"Carrie\"  NaN\n",
       "\n",
       "[177 rows x 2 columns]"
      ]
     },
     "execution_count": 12,
     "metadata": {},
     "output_type": "execute_result"
    }
   ],
   "source": [
    "train_data[['Name', 'Age']].loc[(train_data['Age'].isnull()>0)]"
   ]
  },
  {
   "cell_type": "markdown",
   "id": "0a3f9537",
   "metadata": {
    "papermill": {
     "duration": 0.025383,
     "end_time": "2022-06-09T14:17:50.314915",
     "exception": false,
     "start_time": "2022-06-09T14:17:50.289532",
     "status": "completed"
    },
    "tags": []
   },
   "source": [
    "- Survey on individuals with missing age values; presence of 'Mr.', 'Master', 'Miss' showing not so young age"
   ]
  },
  {
   "cell_type": "code",
   "execution_count": 13,
   "id": "022f7b1a",
   "metadata": {
    "execution": {
     "iopub.execute_input": "2022-06-09T14:17:50.372357Z",
     "iopub.status.busy": "2022-06-09T14:17:50.371685Z",
     "iopub.status.idle": "2022-06-09T14:17:50.378806Z",
     "shell.execute_reply": "2022-06-09T14:17:50.377773Z"
    },
    "papermill": {
     "duration": 0.036728,
     "end_time": "2022-06-09T14:17:50.380798",
     "exception": false,
     "start_time": "2022-06-09T14:17:50.344070",
     "status": "completed"
    },
    "tags": []
   },
   "outputs": [
    {
     "data": {
      "text/plain": [
       "30.0"
      ]
     },
     "execution_count": 13,
     "metadata": {},
     "output_type": "execute_result"
    }
   ],
   "source": [
    "age_mean_val = train_data['Age'].mean().round()\n",
    "age_mean_val"
   ]
  },
  {
   "cell_type": "code",
   "execution_count": 14,
   "id": "b6c5e65f",
   "metadata": {
    "execution": {
     "iopub.execute_input": "2022-06-09T14:17:50.437029Z",
     "iopub.status.busy": "2022-06-09T14:17:50.436615Z",
     "iopub.status.idle": "2022-06-09T14:17:50.441975Z",
     "shell.execute_reply": "2022-06-09T14:17:50.440672Z"
    },
    "papermill": {
     "duration": 0.036735,
     "end_time": "2022-06-09T14:17:50.444502",
     "exception": false,
     "start_time": "2022-06-09T14:17:50.407767",
     "status": "completed"
    },
    "tags": []
   },
   "outputs": [],
   "source": [
    "train_data['Age'] = train_data['Age'].fillna(age_mean_val)"
   ]
  },
  {
   "cell_type": "markdown",
   "id": "827ef7b7",
   "metadata": {
    "papermill": {
     "duration": 0.026549,
     "end_time": "2022-06-09T14:17:50.498187",
     "exception": false,
     "start_time": "2022-06-09T14:17:50.471638",
     "status": "completed"
    },
    "tags": []
   },
   "source": [
    "### Will replace Cabin column with mode value."
   ]
  },
  {
   "cell_type": "code",
   "execution_count": 15,
   "id": "147d381b",
   "metadata": {
    "execution": {
     "iopub.execute_input": "2022-06-09T14:17:50.552727Z",
     "iopub.status.busy": "2022-06-09T14:17:50.552160Z",
     "iopub.status.idle": "2022-06-09T14:17:50.561349Z",
     "shell.execute_reply": "2022-06-09T14:17:50.560419Z"
    },
    "papermill": {
     "duration": 0.038955,
     "end_time": "2022-06-09T14:17:50.563462",
     "exception": false,
     "start_time": "2022-06-09T14:17:50.524507",
     "status": "completed"
    },
    "tags": []
   },
   "outputs": [
    {
     "data": {
      "text/plain": [
       "B96 B98        4\n",
       "G6             4\n",
       "C23 C25 C27    4\n",
       "C22 C26        3\n",
       "F33            3\n",
       "              ..\n",
       "E34            1\n",
       "C7             1\n",
       "C54            1\n",
       "E36            1\n",
       "C148           1\n",
       "Name: Cabin, Length: 147, dtype: int64"
      ]
     },
     "execution_count": 15,
     "metadata": {},
     "output_type": "execute_result"
    }
   ],
   "source": [
    "train_data['Cabin'].value_counts()"
   ]
  },
  {
   "cell_type": "code",
   "execution_count": 16,
   "id": "02695f3c",
   "metadata": {
    "execution": {
     "iopub.execute_input": "2022-06-09T14:17:50.627881Z",
     "iopub.status.busy": "2022-06-09T14:17:50.626992Z",
     "iopub.status.idle": "2022-06-09T14:17:50.635058Z",
     "shell.execute_reply": "2022-06-09T14:17:50.632851Z"
    },
    "papermill": {
     "duration": 0.046725,
     "end_time": "2022-06-09T14:17:50.640241",
     "exception": false,
     "start_time": "2022-06-09T14:17:50.593516",
     "status": "completed"
    },
    "tags": []
   },
   "outputs": [],
   "source": [
    "cabin_mode_val = train_data['Cabin'].mode()[0]"
   ]
  },
  {
   "cell_type": "code",
   "execution_count": 17,
   "id": "96bca173",
   "metadata": {
    "execution": {
     "iopub.execute_input": "2022-06-09T14:17:50.701239Z",
     "iopub.status.busy": "2022-06-09T14:17:50.700768Z",
     "iopub.status.idle": "2022-06-09T14:17:50.706666Z",
     "shell.execute_reply": "2022-06-09T14:17:50.705882Z"
    },
    "papermill": {
     "duration": 0.036517,
     "end_time": "2022-06-09T14:17:50.708765",
     "exception": false,
     "start_time": "2022-06-09T14:17:50.672248",
     "status": "completed"
    },
    "tags": []
   },
   "outputs": [],
   "source": [
    "train_data['Cabin'] = train_data['Cabin'].fillna(cabin_mode_val)"
   ]
  },
  {
   "cell_type": "markdown",
   "id": "c2cd59f8",
   "metadata": {
    "papermill": {
     "duration": 0.026959,
     "end_time": "2022-06-09T14:17:50.767368",
     "exception": false,
     "start_time": "2022-06-09T14:17:50.740409",
     "status": "completed"
    },
    "tags": []
   },
   "source": [
    "### Checking missing values in data"
   ]
  },
  {
   "cell_type": "code",
   "execution_count": 18,
   "id": "679866d5",
   "metadata": {
    "execution": {
     "iopub.execute_input": "2022-06-09T14:17:50.822782Z",
     "iopub.status.busy": "2022-06-09T14:17:50.822043Z",
     "iopub.status.idle": "2022-06-09T14:17:50.832376Z",
     "shell.execute_reply": "2022-06-09T14:17:50.831223Z"
    },
    "papermill": {
     "duration": 0.040612,
     "end_time": "2022-06-09T14:17:50.835200",
     "exception": false,
     "start_time": "2022-06-09T14:17:50.794588",
     "status": "completed"
    },
    "tags": []
   },
   "outputs": [
    {
     "data": {
      "text/plain": [
       "PassengerId    0\n",
       "Survived       0\n",
       "Pclass         0\n",
       "Name           0\n",
       "Sex            0\n",
       "Age            0\n",
       "SibSp          0\n",
       "Parch          0\n",
       "Ticket         0\n",
       "Fare           0\n",
       "Cabin          0\n",
       "Embarked       0\n",
       "dtype: int64"
      ]
     },
     "execution_count": 18,
     "metadata": {},
     "output_type": "execute_result"
    }
   ],
   "source": [
    "train_data.isna().sum()"
   ]
  },
  {
   "cell_type": "markdown",
   "id": "a3fa8fac",
   "metadata": {
    "papermill": {
     "duration": 0.026433,
     "end_time": "2022-06-09T14:17:50.896167",
     "exception": false,
     "start_time": "2022-06-09T14:17:50.869734",
     "status": "completed"
    },
    "tags": []
   },
   "source": [
    "# Data Visualization"
   ]
  },
  {
   "cell_type": "markdown",
   "id": "550e7f50",
   "metadata": {
    "papermill": {
     "duration": 0.031132,
     "end_time": "2022-06-09T14:17:50.955713",
     "exception": false,
     "start_time": "2022-06-09T14:17:50.924581",
     "status": "completed"
    },
    "tags": []
   },
   "source": [
    "## Univariate Data Analysis"
   ]
  },
  {
   "cell_type": "markdown",
   "id": "e5edc3cd",
   "metadata": {
    "papermill": {
     "duration": 0.028237,
     "end_time": "2022-06-09T14:17:51.013076",
     "exception": false,
     "start_time": "2022-06-09T14:17:50.984839",
     "status": "completed"
    },
    "tags": []
   },
   "source": [
    "### Categorical Data"
   ]
  },
  {
   "cell_type": "code",
   "execution_count": 19,
   "id": "65c5ef3b",
   "metadata": {
    "execution": {
     "iopub.execute_input": "2022-06-09T14:17:51.071824Z",
     "iopub.status.busy": "2022-06-09T14:17:51.070608Z",
     "iopub.status.idle": "2022-06-09T14:17:51.595807Z",
     "shell.execute_reply": "2022-06-09T14:17:51.594425Z"
    },
    "papermill": {
     "duration": 0.55668,
     "end_time": "2022-06-09T14:17:51.598236",
     "exception": false,
     "start_time": "2022-06-09T14:17:51.041556",
     "status": "completed"
    },
    "tags": []
   },
   "outputs": [
    {
     "data": {
      "text/plain": [
       "Text(0.5, 1.0, 'Survived')"
      ]
     },
     "execution_count": 19,
     "metadata": {},
     "output_type": "execute_result"
    },
    {
     "data": {
      "image/png": "[encoded data removed]",
      "text/plain": [
       "<Figure size 1584x720 with 4 Axes>"
      ]
     },
     "metadata": {
      "needs_background": "light"
     },
     "output_type": "display_data"
    }
   ],
   "source": [
    "fig, ax = plt.subplots(nrows = 2, ncols = 2, figsize=(22,10), sharex=False, sharey=True)\n",
    "\n",
    "sns.countplot(x = train_data['Sex'], ax = ax[0,0])\n",
    "sns.countplot(x = train_data['Embarked'], ax = ax[0,1])\n",
    "sns.countplot(x = train_data['Pclass'], ax = ax[1,0])\n",
    "sns.countplot(x = train_data['Survived'], ax = ax[1,1])\n",
    "\n",
    "ax[0,0].set_title(\"Gender\")\n",
    "ax[0,1].set_title(\"Embarked\")\n",
    "ax[1,0].set_title(\"Pclass\")\n",
    "ax[1,1].set_title(\"Survived\")"
   ]
  },
  {
   "cell_type": "markdown",
   "id": "06fe9fc2",
   "metadata": {
    "papermill": {
     "duration": 0.02859,
     "end_time": "2022-06-09T14:17:51.653817",
     "exception": false,
     "start_time": "2022-06-09T14:17:51.625227",
     "status": "completed"
    },
    "tags": []
   },
   "source": [
    "- More males than females were aboard the Titanic\n",
    "- More passenger embarked from Southampton while the least number of passengers embalred from Queenstown\n",
    "- More passengers in class 3, while the least number of passengers in class 2\n",
    "- Survival rate was low as more passenegers did not survive (0) compared to those who survived (1)"
   ]
  },
  {
   "cell_type": "markdown",
   "id": "556e09f2",
   "metadata": {
    "papermill": {
     "duration": 0.027205,
     "end_time": "2022-06-09T14:17:51.707918",
     "exception": false,
     "start_time": "2022-06-09T14:17:51.680713",
     "status": "completed"
    },
    "tags": []
   },
   "source": [
    "### Numerical Data"
   ]
  },
  {
   "cell_type": "code",
   "execution_count": 20,
   "id": "368aa69e",
   "metadata": {
    "execution": {
     "iopub.execute_input": "2022-06-09T14:17:51.764091Z",
     "iopub.status.busy": "2022-06-09T14:17:51.763407Z",
     "iopub.status.idle": "2022-06-09T14:17:52.091216Z",
     "shell.execute_reply": "2022-06-09T14:17:52.090113Z"
    },
    "papermill": {
     "duration": 0.358751,
     "end_time": "2022-06-09T14:17:52.093701",
     "exception": false,
     "start_time": "2022-06-09T14:17:51.734950",
     "status": "completed"
    },
    "tags": []
   },
   "outputs": [
    {
     "data": {
      "text/plain": [
       "Text(0, 0.5, 'Frequency')"
      ]
     },
     "execution_count": 20,
     "metadata": {},
     "output_type": "execute_result"
    },
    {
     "data": {
      "image/png": "[encoded data removed]",
      "text/plain": [
       "<Figure size 1584x432 with 2 Axes>"
      ]
     },
     "metadata": {
      "needs_background": "light"
     },
     "output_type": "display_data"
    }
   ],
   "source": [
    "plt.figure(figsize=(22, 6))\n",
    "\n",
    "# Siblings/Spouses Aboard\n",
    "plt.subplot(121)\n",
    "sns.kdeplot(\"SibSp\", data = train_data, fill = True)\n",
    "plt.xlabel('Siblings/Spouses Aboard')\n",
    "plt.ylabel('Frequency')\n",
    "\n",
    "# Parents/Children Aboard\n",
    "plt.subplot(122)\n",
    "sns.kdeplot(\"Parch\", data = train_data, fill = True)\n",
    "plt.xlabel('Parents/Children Aboard')\n",
    "plt.ylabel('Frequency')"
   ]
  },
  {
   "cell_type": "markdown",
   "id": "eae35e01",
   "metadata": {
    "papermill": {
     "duration": 0.02736,
     "end_time": "2022-06-09T14:17:52.149219",
     "exception": false,
     "start_time": "2022-06-09T14:17:52.121859",
     "status": "completed"
    },
    "tags": []
   },
   "source": [
    "Highest number of Siblings/Spouses and Parents/Children aboard the titanic is zero for both cases."
   ]
  },
  {
   "cell_type": "code",
   "execution_count": 21,
   "id": "1ff19e89",
   "metadata": {
    "execution": {
     "iopub.execute_input": "2022-06-09T14:17:52.208815Z",
     "iopub.status.busy": "2022-06-09T14:17:52.207588Z",
     "iopub.status.idle": "2022-06-09T14:17:52.555272Z",
     "shell.execute_reply": "2022-06-09T14:17:52.554427Z"
    },
    "papermill": {
     "duration": 0.379782,
     "end_time": "2022-06-09T14:17:52.557658",
     "exception": false,
     "start_time": "2022-06-09T14:17:52.177876",
     "status": "completed"
    },
    "tags": []
   },
   "outputs": [
    {
     "data": {
      "text/plain": [
       "Text(0, 0.5, 'Frequency')"
      ]
     },
     "execution_count": 21,
     "metadata": {},
     "output_type": "execute_result"
    },
    {
     "data": {
      "image/png": "[encoded data removed]",
      "text/plain": [
       "<Figure size 1584x432 with 2 Axes>"
      ]
     },
     "metadata": {
      "needs_background": "light"
     },
     "output_type": "display_data"
    }
   ],
   "source": [
    "plt.figure(figsize=(22, 6))\n",
    "\n",
    "# Age distribution\n",
    "plt.subplot(121)\n",
    "sns.kdeplot(\"Age\", data = train_data, fill = True)\n",
    "plt.xlabel('Age')\n",
    "plt.ylabel('Frequency')\n",
    "\n",
    "# Age distribution for each gender\n",
    "plt.subplot(122)\n",
    "sns.kdeplot(\"Age\", data = train_data, hue = \"Sex\", fill = True)\n",
    "plt.xlabel('Age Dist Per Gender')\n",
    "plt.ylabel('Frequency')"
   ]
  },
  {
   "cell_type": "markdown",
   "id": "84cd5f73",
   "metadata": {
    "papermill": {
     "duration": 0.043598,
     "end_time": "2022-06-09T14:17:52.630091",
     "exception": false,
     "start_time": "2022-06-09T14:17:52.586493",
     "status": "completed"
    },
    "tags": []
   },
   "source": [
    "Most individuals on board were between the ages of 20 and 40, and for both genders."
   ]
  },
  {
   "cell_type": "code",
   "execution_count": 22,
   "id": "8a76e425",
   "metadata": {
    "execution": {
     "iopub.execute_input": "2022-06-09T14:17:52.691833Z",
     "iopub.status.busy": "2022-06-09T14:17:52.691233Z",
     "iopub.status.idle": "2022-06-09T14:17:53.116240Z",
     "shell.execute_reply": "2022-06-09T14:17:53.115012Z"
    },
    "papermill": {
     "duration": 0.458164,
     "end_time": "2022-06-09T14:17:53.118686",
     "exception": false,
     "start_time": "2022-06-09T14:17:52.660522",
     "status": "completed"
    },
    "tags": []
   },
   "outputs": [
    {
     "data": {
      "text/plain": [
       "Text(0, 0.5, 'Frequency')"
      ]
     },
     "execution_count": 22,
     "metadata": {},
     "output_type": "execute_result"
    },
    {
     "data": {
      "image/png": "[encoded data removed]",
      "text/plain": [
       "<Figure size 1584x432 with 2 Axes>"
      ]
     },
     "metadata": {
      "needs_background": "light"
     },
     "output_type": "display_data"
    }
   ],
   "source": [
    "plt.figure(figsize=(22, 6))\n",
    "\n",
    "# Fare distribution\n",
    "plt.subplot(121)\n",
    "sns.kdeplot(\"Fare\", data = train_data, fill = True)\n",
    "plt.xlabel('Fare')\n",
    "plt.ylabel('Frequency')\n",
    "\n",
    "# Fare distribution for each Passenger Class\n",
    "plt.subplot(122)\n",
    "sns.kdeplot(\"Fare\", data = train_data, hue = \"Pclass\", fill = True)\n",
    "plt.xlabel('Fare Per Passenger Class')\n",
    "plt.ylabel('Frequency')"
   ]
  },
  {
   "cell_type": "markdown",
   "id": "3e16657c",
   "metadata": {
    "papermill": {
     "duration": 0.032139,
     "end_time": "2022-06-09T14:17:53.180133",
     "exception": false,
     "start_time": "2022-06-09T14:17:53.147994",
     "status": "completed"
    },
    "tags": []
   },
   "source": [
    "- Highest fare frequency between 0 and about 70.\n",
    "- Passenger class 1 with fare exceeding 100, class 2 and 3 with fare amounts greater than zero but less than 100."
   ]
  },
  {
   "cell_type": "markdown",
   "id": "2b124c51",
   "metadata": {
    "papermill": {
     "duration": 0.03075,
     "end_time": "2022-06-09T14:17:53.240389",
     "exception": false,
     "start_time": "2022-06-09T14:17:53.209639",
     "status": "completed"
    },
    "tags": []
   },
   "source": [
    "## Dependent Variable Analysis"
   ]
  },
  {
   "cell_type": "code",
   "execution_count": 23,
   "id": "773100fe",
   "metadata": {
    "execution": {
     "iopub.execute_input": "2022-06-09T14:17:53.302674Z",
     "iopub.status.busy": "2022-06-09T14:17:53.302253Z",
     "iopub.status.idle": "2022-06-09T14:17:53.309357Z",
     "shell.execute_reply": "2022-06-09T14:17:53.308386Z"
    },
    "papermill": {
     "duration": 0.04066,
     "end_time": "2022-06-09T14:17:53.311393",
     "exception": false,
     "start_time": "2022-06-09T14:17:53.270733",
     "status": "completed"
    },
    "tags": []
   },
   "outputs": [
    {
     "name": "stdout",
     "output_type": "stream",
     "text": [
      "0    549\n",
      "1    342\n",
      "Name: Survived, dtype: int64\n"
     ]
    }
   ],
   "source": [
    "# We already ascertained that less individuals survived (1) compared to those that did not survive (0).\n",
    "\n",
    "print(train_data['Survived'].value_counts())"
   ]
  },
  {
   "cell_type": "markdown",
   "id": "16ef18c2",
   "metadata": {
    "papermill": {
     "duration": 0.029109,
     "end_time": "2022-06-09T14:17:53.371698",
     "exception": false,
     "start_time": "2022-06-09T14:17:53.342589",
     "status": "completed"
    },
    "tags": []
   },
   "source": [
    "### Comparative analysis of survival rates between different genders, embarking stations, passenger classes,  ages, parch and sibsp."
   ]
  },
  {
   "cell_type": "code",
   "execution_count": 24,
   "id": "fa2e1847",
   "metadata": {
    "execution": {
     "iopub.execute_input": "2022-06-09T14:17:53.433158Z",
     "iopub.status.busy": "2022-06-09T14:17:53.432579Z",
     "iopub.status.idle": "2022-06-09T14:17:55.730153Z",
     "shell.execute_reply": "2022-06-09T14:17:55.729124Z"
    },
    "papermill": {
     "duration": 2.331599,
     "end_time": "2022-06-09T14:17:55.732574",
     "exception": false,
     "start_time": "2022-06-09T14:17:53.400975",
     "status": "completed"
    },
    "tags": []
   },
   "outputs": [
    {
     "data": {
      "text/plain": [
       "<AxesSubplot:xlabel='SibSp', ylabel='count'>"
      ]
     },
     "execution_count": 24,
     "metadata": {},
     "output_type": "execute_result"
    },
    {
     "data": {
      "image/png": "[encoded data removed]",
      "text/plain": [
       "<Figure size 1584x720 with 6 Axes>"
      ]
     },
     "metadata": {
      "needs_background": "light"
     },
     "output_type": "display_data"
    }
   ],
   "source": [
    "fig, ax = plt.subplots(nrows = 3, ncols = 2, figsize=(22,10), sharex=False, sharey=True)\n",
    "\n",
    "sns.countplot(x = train_data['Sex'], hue = train_data[\"Survived\"], ax = ax[0,0])\n",
    "sns.countplot(x = train_data['Embarked'], hue = train_data[\"Survived\"], ax = ax[0,1])\n",
    "sns.countplot(x = train_data['Pclass'], hue = train_data[\"Survived\"], ax = ax[1,0])\n",
    "sns.countplot(x = train_data[\"Age\"], hue = train_data[\"Survived\"], ax = ax[1,1])\n",
    "sns.countplot(x = \"Parch\", data = train_data, hue = \"Survived\", ax = ax[2,0])\n",
    "sns.countplot(x = \"SibSp\", data = train_data, hue = \"Survived\", ax = ax[2,1])\n"
   ]
  },
  {
   "cell_type": "markdown",
   "id": "6d7ac16f",
   "metadata": {
    "papermill": {
     "duration": 0.029598,
     "end_time": "2022-06-09T14:17:55.797876",
     "exception": false,
     "start_time": "2022-06-09T14:17:55.768278",
     "status": "completed"
    },
    "tags": []
   },
   "source": [
    "- Survival rate among males lower compared to females.\n",
    "- More passengers embarked from station 'S', which also had the least survival rate. Station 'Q' had the least number of passengers, and a lower survival rate as well.\n",
    "- More passengers in class 3. which also had the lower survival rate.\n",
    "- A higher number of passengers between the ages of 20-40 did not survive the shipwreck.\n",
    "- Most passengers with no of siblings / spouses and parents / children aboard the Titanic, and with lower survival rate."
   ]
  },
  {
   "cell_type": "markdown",
   "id": "d0fbb5cb",
   "metadata": {
    "papermill": {
     "duration": 0.029842,
     "end_time": "2022-06-09T14:17:55.858367",
     "exception": false,
     "start_time": "2022-06-09T14:17:55.828525",
     "status": "completed"
    },
    "tags": []
   },
   "source": [
    "## Bivariate Analysis"
   ]
  },
  {
   "cell_type": "code",
   "execution_count": 25,
   "id": "76bdddbf",
   "metadata": {
    "execution": {
     "iopub.execute_input": "2022-06-09T14:17:55.921281Z",
     "iopub.status.busy": "2022-06-09T14:17:55.920382Z",
     "iopub.status.idle": "2022-06-09T14:17:56.433365Z",
     "shell.execute_reply": "2022-06-09T14:17:56.432317Z"
    },
    "papermill": {
     "duration": 0.546343,
     "end_time": "2022-06-09T14:17:56.435571",
     "exception": false,
     "start_time": "2022-06-09T14:17:55.889228",
     "status": "completed"
    },
    "tags": []
   },
   "outputs": [
    {
     "data": {
      "text/plain": [
       "<seaborn.axisgrid.FacetGrid at 0x7f5d1c8c7210>"
      ]
     },
     "execution_count": 25,
     "metadata": {},
     "output_type": "execute_result"
    },
    {
     "data": {
      "image/png": "[encoded data removed]",
      "text/plain": [
       "<Figure size 411.875x360 with 1 Axes>"
      ]
     },
     "metadata": {
      "needs_background": "light"
     },
     "output_type": "display_data"
    }
   ],
   "source": [
    "sns.relplot(x = \"Fare\", y = \"Pclass\", data = train_data, hue = \"Survived\")"
   ]
  },
  {
   "cell_type": "markdown",
   "id": "4e781778",
   "metadata": {
    "papermill": {
     "duration": 0.030482,
     "end_time": "2022-06-09T14:17:56.497138",
     "exception": false,
     "start_time": "2022-06-09T14:17:56.466656",
     "status": "completed"
    },
    "tags": []
   },
   "source": [
    "- Higher fare values for passeneger class 1, compared to class 2 and 3 which have almost the same level of fare charged. \n",
    "- The higher the passenger class, the lower the chances of survival\n",
    "- A larger number of passengers in passenger class 3 did not survive relative to passenger class 1. \n"
   ]
  },
  {
   "cell_type": "code",
   "execution_count": 26,
   "id": "9f513357",
   "metadata": {
    "execution": {
     "iopub.execute_input": "2022-06-09T14:17:56.562145Z",
     "iopub.status.busy": "2022-06-09T14:17:56.561478Z",
     "iopub.status.idle": "2022-06-09T14:17:57.014014Z",
     "shell.execute_reply": "2022-06-09T14:17:57.012149Z"
    },
    "papermill": {
     "duration": 0.487423,
     "end_time": "2022-06-09T14:17:57.016725",
     "exception": false,
     "start_time": "2022-06-09T14:17:56.529302",
     "status": "completed"
    },
    "tags": []
   },
   "outputs": [
    {
     "data": {
      "text/plain": [
       "<seaborn.axisgrid.FacetGrid at 0x7f5d1c7e5a50>"
      ]
     },
     "execution_count": 26,
     "metadata": {},
     "output_type": "execute_result"
    },
    {
     "data": {
      "image/png": "[encoded data removed]",
      "text/plain": [
       "<Figure size 411.875x360 with 1 Axes>"
      ]
     },
     "metadata": {
      "needs_background": "light"
     },
     "output_type": "display_data"
    }
   ],
   "source": [
    "sns.relplot(x = \"Sex\", y = \"Age\", data = train_data, hue = \"Survived\")"
   ]
  },
  {
   "cell_type": "markdown",
   "id": "89fa6c5b",
   "metadata": {
    "papermill": {
     "duration": 0.030661,
     "end_time": "2022-06-09T14:17:57.078756",
     "exception": false,
     "start_time": "2022-06-09T14:17:57.048095",
     "status": "completed"
    },
    "tags": []
   },
   "source": [
    "- More females than males survived.\n",
    "- Oldest female about 65 years, while oldest male at about 80 years old. \n",
    "- Highest death rate for males between 15 - 50 years old, and survival rate for females in the same age range. "
   ]
  },
  {
   "cell_type": "code",
   "execution_count": 27,
   "id": "0fce829b",
   "metadata": {
    "execution": {
     "iopub.execute_input": "2022-06-09T14:17:57.143400Z",
     "iopub.status.busy": "2022-06-09T14:17:57.142982Z",
     "iopub.status.idle": "2022-06-09T14:17:57.418881Z",
     "shell.execute_reply": "2022-06-09T14:17:57.417863Z"
    },
    "papermill": {
     "duration": 0.311105,
     "end_time": "2022-06-09T14:17:57.421190",
     "exception": false,
     "start_time": "2022-06-09T14:17:57.110085",
     "status": "completed"
    },
    "tags": []
   },
   "outputs": [
    {
     "data": {
      "text/plain": [
       "<AxesSubplot:xlabel='Sex'>"
      ]
     },
     "execution_count": 27,
     "metadata": {},
     "output_type": "execute_result"
    },
    {
     "data": {
      "image/png": "[encoded data removed]",
      "text/plain": [
       "<Figure size 432x288 with 1 Axes>"
      ]
     },
     "metadata": {
      "needs_background": "light"
     },
     "output_type": "display_data"
    }
   ],
   "source": [
    "train_data.groupby([\"Sex\", \"Parch\"]).size().unstack(1).plot(kind=\"bar\", stacked = True)"
   ]
  },
  {
   "cell_type": "markdown",
   "id": "baf55c57",
   "metadata": {
    "papermill": {
     "duration": 0.031509,
     "end_time": "2022-06-09T14:17:57.484218",
     "exception": false,
     "start_time": "2022-06-09T14:17:57.452709",
     "status": "completed"
    },
    "tags": []
   },
   "source": [
    "### Correlation Heatmap"
   ]
  },
  {
   "cell_type": "code",
   "execution_count": 28,
   "id": "a3f53e5e",
   "metadata": {
    "execution": {
     "iopub.execute_input": "2022-06-09T14:17:57.549576Z",
     "iopub.status.busy": "2022-06-09T14:17:57.548443Z",
     "iopub.status.idle": "2022-06-09T14:17:57.869908Z",
     "shell.execute_reply": "2022-06-09T14:17:57.868863Z"
    },
    "papermill": {
     "duration": 0.356566,
     "end_time": "2022-06-09T14:17:57.872283",
     "exception": false,
     "start_time": "2022-06-09T14:17:57.515717",
     "status": "completed"
    },
    "tags": []
   },
   "outputs": [
    {
     "data": {
      "image/png": "[encoded data removed]",
      "text/plain": [
       "<Figure size 864x432 with 2 Axes>"
      ]
     },
     "metadata": {
      "needs_background": "light"
     },
     "output_type": "display_data"
    }
   ],
   "source": [
    "plt.figure(figsize=(12, 6))\n",
    "\n",
    "df = train_data.drop(['PassengerId', 'Name'],axis=1)\n",
    "corr = df.apply(lambda x: pd.factorize(x)[0]).corr()\n",
    "ax = sns.heatmap(corr, xticklabels=corr.columns, yticklabels=corr.columns, \n",
    "                 linewidths=.2, cmap=\"Reds\")"
   ]
  },
  {
   "cell_type": "markdown",
   "id": "df2c4f7b",
   "metadata": {
    "papermill": {
     "duration": 0.034897,
     "end_time": "2022-06-09T14:17:57.939558",
     "exception": false,
     "start_time": "2022-06-09T14:17:57.904661",
     "status": "completed"
    },
    "tags": []
   },
   "source": [
    "- Sex, age, Passenger Class Embarking Station, Fare and Cabin with highest positive correlation to survival.\n",
    "- Possibility that fare is influenced by passenger's Cabin."
   ]
  },
  {
   "cell_type": "markdown",
   "id": "f9799c46",
   "metadata": {
    "execution": {
     "iopub.execute_input": "2022-06-02T17:31:02.805532Z",
     "iopub.status.busy": "2022-06-02T17:31:02.805067Z",
     "iopub.status.idle": "2022-06-02T17:31:02.809453Z",
     "shell.execute_reply": "2022-06-02T17:31:02.808799Z",
     "shell.execute_reply.started": "2022-06-02T17:31:02.805495Z"
    },
    "papermill": {
     "duration": 0.032913,
     "end_time": "2022-06-09T14:17:58.004956",
     "exception": false,
     "start_time": "2022-06-09T14:17:57.972043",
     "status": "completed"
    },
    "tags": []
   },
   "source": [
    "## Training and Test Data on Train Dataset"
   ]
  },
  {
   "cell_type": "code",
   "execution_count": 29,
   "id": "28ad8fcc",
   "metadata": {
    "execution": {
     "iopub.execute_input": "2022-06-09T14:17:58.073179Z",
     "iopub.status.busy": "2022-06-09T14:17:58.071955Z",
     "iopub.status.idle": "2022-06-09T14:17:58.079336Z",
     "shell.execute_reply": "2022-06-09T14:17:58.078594Z"
    },
    "papermill": {
     "duration": 0.043996,
     "end_time": "2022-06-09T14:17:58.081266",
     "exception": false,
     "start_time": "2022-06-09T14:17:58.037270",
     "status": "completed"
    },
    "tags": []
   },
   "outputs": [
    {
     "data": {
      "text/plain": [
       "0    0\n",
       "1    1\n",
       "2    1\n",
       "3    1\n",
       "4    0\n",
       "Name: Survived, dtype: int64"
      ]
     },
     "execution_count": 29,
     "metadata": {},
     "output_type": "execute_result"
    }
   ],
   "source": [
    "# dependent variable from train dataset\n",
    "\n",
    "y_data = train_data['Survived']\n",
    "y_data.head()"
   ]
  },
  {
   "cell_type": "code",
   "execution_count": 30,
   "id": "8cf55fd4",
   "metadata": {
    "execution": {
     "iopub.execute_input": "2022-06-09T14:17:58.148933Z",
     "iopub.status.busy": "2022-06-09T14:17:58.147941Z",
     "iopub.status.idle": "2022-06-09T14:17:58.163809Z",
     "shell.execute_reply": "2022-06-09T14:17:58.162774Z"
    },
    "papermill": {
     "duration": 0.05239,
     "end_time": "2022-06-09T14:17:58.166138",
     "exception": false,
     "start_time": "2022-06-09T14:17:58.113748",
     "status": "completed"
    },
    "tags": []
   },
   "outputs": [
    {
     "data": {
      "text/html": [
       "<div>\n",
       "<style scoped>\n",
       "    .dataframe tbody tr th:only-of-type {\n",
       "        vertical-align: middle;\n",
       "    }\n",
       "\n",
       "    .dataframe tbody tr th {\n",
       "        vertical-align: top;\n",
       "    }\n",
       "\n",
       "    .dataframe thead th {\n",
       "        text-align: right;\n",
       "    }\n",
       "</style>\n",
       "<table border=\"1\" class=\"dataframe\">\n",
       "  <thead>\n",
       "    <tr style=\"text-align: right;\">\n",
       "      <th></th>\n",
       "      <th>Pclass</th>\n",
       "      <th>Sex</th>\n",
       "      <th>Age</th>\n",
       "      <th>SibSp</th>\n",
       "      <th>Parch</th>\n",
       "      <th>Fare</th>\n",
       "      <th>Embarked</th>\n",
       "    </tr>\n",
       "  </thead>\n",
       "  <tbody>\n",
       "    <tr>\n",
       "      <th>0</th>\n",
       "      <td>3</td>\n",
       "      <td>male</td>\n",
       "      <td>22.0</td>\n",
       "      <td>1</td>\n",
       "      <td>0</td>\n",
       "      <td>7.2500</td>\n",
       "      <td>S</td>\n",
       "    </tr>\n",
       "    <tr>\n",
       "      <th>1</th>\n",
       "      <td>1</td>\n",
       "      <td>female</td>\n",
       "      <td>38.0</td>\n",
       "      <td>1</td>\n",
       "      <td>0</td>\n",
       "      <td>71.2833</td>\n",
       "      <td>C</td>\n",
       "    </tr>\n",
       "    <tr>\n",
       "      <th>2</th>\n",
       "      <td>3</td>\n",
       "      <td>female</td>\n",
       "      <td>26.0</td>\n",
       "      <td>0</td>\n",
       "      <td>0</td>\n",
       "      <td>7.9250</td>\n",
       "      <td>S</td>\n",
       "    </tr>\n",
       "    <tr>\n",
       "      <th>3</th>\n",
       "      <td>1</td>\n",
       "      <td>female</td>\n",
       "      <td>35.0</td>\n",
       "      <td>1</td>\n",
       "      <td>0</td>\n",
       "      <td>53.1000</td>\n",
       "      <td>S</td>\n",
       "    </tr>\n",
       "    <tr>\n",
       "      <th>4</th>\n",
       "      <td>3</td>\n",
       "      <td>male</td>\n",
       "      <td>35.0</td>\n",
       "      <td>0</td>\n",
       "      <td>0</td>\n",
       "      <td>8.0500</td>\n",
       "      <td>S</td>\n",
       "    </tr>\n",
       "  </tbody>\n",
       "</table>\n",
       "</div>"
      ],
      "text/plain": [
       "   Pclass     Sex   Age  SibSp  Parch     Fare Embarked\n",
       "0       3    male  22.0      1      0   7.2500        S\n",
       "1       1  female  38.0      1      0  71.2833        C\n",
       "2       3  female  26.0      0      0   7.9250        S\n",
       "3       1  female  35.0      1      0  53.1000        S\n",
       "4       3    male  35.0      0      0   8.0500        S"
      ]
     },
     "execution_count": 30,
     "metadata": {},
     "output_type": "execute_result"
    }
   ],
   "source": [
    "# independent variables\n",
    "# pick columns with high correlation to Survival rate\n",
    "\n",
    "x_data = train_data.drop(['PassengerId', 'Name', 'Survived', 'Ticket', 'Cabin'], axis = 1)\n",
    "x_data.head()"
   ]
  },
  {
   "cell_type": "markdown",
   "id": "d9f34eae",
   "metadata": {
    "papermill": {
     "duration": 0.031792,
     "end_time": "2022-06-09T14:17:58.230380",
     "exception": false,
     "start_time": "2022-06-09T14:17:58.198588",
     "status": "completed"
    },
    "tags": []
   },
   "source": [
    "### Encoding Categorical Data"
   ]
  },
  {
   "cell_type": "code",
   "execution_count": 31,
   "id": "d06aeb36",
   "metadata": {
    "execution": {
     "iopub.execute_input": "2022-06-09T14:17:58.295773Z",
     "iopub.status.busy": "2022-06-09T14:17:58.295287Z",
     "iopub.status.idle": "2022-06-09T14:17:58.306810Z",
     "shell.execute_reply": "2022-06-09T14:17:58.305982Z"
    },
    "papermill": {
     "duration": 0.046902,
     "end_time": "2022-06-09T14:17:58.308973",
     "exception": false,
     "start_time": "2022-06-09T14:17:58.262071",
     "status": "completed"
    },
    "tags": []
   },
   "outputs": [],
   "source": [
    "x_data = pd.get_dummies(x_data, columns = ['Pclass', 'Sex', 'SibSp','Parch', 'Embarked'])\n"
   ]
  },
  {
   "cell_type": "code",
   "execution_count": 32,
   "id": "69bf1108",
   "metadata": {
    "execution": {
     "iopub.execute_input": "2022-06-09T14:17:58.375478Z",
     "iopub.status.busy": "2022-06-09T14:17:58.374294Z",
     "iopub.status.idle": "2022-06-09T14:17:58.395417Z",
     "shell.execute_reply": "2022-06-09T14:17:58.394153Z"
    },
    "papermill": {
     "duration": 0.056938,
     "end_time": "2022-06-09T14:17:58.397696",
     "exception": false,
     "start_time": "2022-06-09T14:17:58.340758",
     "status": "completed"
    },
    "tags": []
   },
   "outputs": [
    {
     "data": {
      "text/html": [
       "<div>\n",
       "<style scoped>\n",
       "    .dataframe tbody tr th:only-of-type {\n",
       "        vertical-align: middle;\n",
       "    }\n",
       "\n",
       "    .dataframe tbody tr th {\n",
       "        vertical-align: top;\n",
       "    }\n",
       "\n",
       "    .dataframe thead th {\n",
       "        text-align: right;\n",
       "    }\n",
       "</style>\n",
       "<table border=\"1\" class=\"dataframe\">\n",
       "  <thead>\n",
       "    <tr style=\"text-align: right;\">\n",
       "      <th></th>\n",
       "      <th>Age</th>\n",
       "      <th>Fare</th>\n",
       "      <th>Pclass_1</th>\n",
       "      <th>Pclass_2</th>\n",
       "      <th>Pclass_3</th>\n",
       "      <th>Sex_female</th>\n",
       "      <th>Sex_male</th>\n",
       "      <th>SibSp_0</th>\n",
       "      <th>SibSp_1</th>\n",
       "      <th>SibSp_2</th>\n",
       "      <th>...</th>\n",
       "      <th>Parch_0</th>\n",
       "      <th>Parch_1</th>\n",
       "      <th>Parch_2</th>\n",
       "      <th>Parch_3</th>\n",
       "      <th>Parch_4</th>\n",
       "      <th>Parch_5</th>\n",
       "      <th>Parch_6</th>\n",
       "      <th>Embarked_C</th>\n",
       "      <th>Embarked_Q</th>\n",
       "      <th>Embarked_S</th>\n",
       "    </tr>\n",
       "  </thead>\n",
       "  <tbody>\n",
       "    <tr>\n",
       "      <th>0</th>\n",
       "      <td>22.0</td>\n",
       "      <td>7.2500</td>\n",
       "      <td>0</td>\n",
       "      <td>0</td>\n",
       "      <td>1</td>\n",
       "      <td>0</td>\n",
       "      <td>1</td>\n",
       "      <td>0</td>\n",
       "      <td>1</td>\n",
       "      <td>0</td>\n",
       "      <td>...</td>\n",
       "      <td>1</td>\n",
       "      <td>0</td>\n",
       "      <td>0</td>\n",
       "      <td>0</td>\n",
       "      <td>0</td>\n",
       "      <td>0</td>\n",
       "      <td>0</td>\n",
       "      <td>0</td>\n",
       "      <td>0</td>\n",
       "      <td>1</td>\n",
       "    </tr>\n",
       "    <tr>\n",
       "      <th>1</th>\n",
       "      <td>38.0</td>\n",
       "      <td>71.2833</td>\n",
       "      <td>1</td>\n",
       "      <td>0</td>\n",
       "      <td>0</td>\n",
       "      <td>1</td>\n",
       "      <td>0</td>\n",
       "      <td>0</td>\n",
       "      <td>1</td>\n",
       "      <td>0</td>\n",
       "      <td>...</td>\n",
       "      <td>1</td>\n",
       "      <td>0</td>\n",
       "      <td>0</td>\n",
       "      <td>0</td>\n",
       "      <td>0</td>\n",
       "      <td>0</td>\n",
       "      <td>0</td>\n",
       "      <td>1</td>\n",
       "      <td>0</td>\n",
       "      <td>0</td>\n",
       "    </tr>\n",
       "    <tr>\n",
       "      <th>2</th>\n",
       "      <td>26.0</td>\n",
       "      <td>7.9250</td>\n",
       "      <td>0</td>\n",
       "      <td>0</td>\n",
       "      <td>1</td>\n",
       "      <td>1</td>\n",
       "      <td>0</td>\n",
       "      <td>1</td>\n",
       "      <td>0</td>\n",
       "      <td>0</td>\n",
       "      <td>...</td>\n",
       "      <td>1</td>\n",
       "      <td>0</td>\n",
       "      <td>0</td>\n",
       "      <td>0</td>\n",
       "      <td>0</td>\n",
       "      <td>0</td>\n",
       "      <td>0</td>\n",
       "      <td>0</td>\n",
       "      <td>0</td>\n",
       "      <td>1</td>\n",
       "    </tr>\n",
       "    <tr>\n",
       "      <th>3</th>\n",
       "      <td>35.0</td>\n",
       "      <td>53.1000</td>\n",
       "      <td>1</td>\n",
       "      <td>0</td>\n",
       "      <td>0</td>\n",
       "      <td>1</td>\n",
       "      <td>0</td>\n",
       "      <td>0</td>\n",
       "      <td>1</td>\n",
       "      <td>0</td>\n",
       "      <td>...</td>\n",
       "      <td>1</td>\n",
       "      <td>0</td>\n",
       "      <td>0</td>\n",
       "      <td>0</td>\n",
       "      <td>0</td>\n",
       "      <td>0</td>\n",
       "      <td>0</td>\n",
       "      <td>0</td>\n",
       "      <td>0</td>\n",
       "      <td>1</td>\n",
       "    </tr>\n",
       "    <tr>\n",
       "      <th>4</th>\n",
       "      <td>35.0</td>\n",
       "      <td>8.0500</td>\n",
       "      <td>0</td>\n",
       "      <td>0</td>\n",
       "      <td>1</td>\n",
       "      <td>0</td>\n",
       "      <td>1</td>\n",
       "      <td>1</td>\n",
       "      <td>0</td>\n",
       "      <td>0</td>\n",
       "      <td>...</td>\n",
       "      <td>1</td>\n",
       "      <td>0</td>\n",
       "      <td>0</td>\n",
       "      <td>0</td>\n",
       "      <td>0</td>\n",
       "      <td>0</td>\n",
       "      <td>0</td>\n",
       "      <td>0</td>\n",
       "      <td>0</td>\n",
       "      <td>1</td>\n",
       "    </tr>\n",
       "  </tbody>\n",
       "</table>\n",
       "<p>5 rows × 24 columns</p>\n",
       "</div>"
      ],
      "text/plain": [
       "    Age     Fare  Pclass_1  Pclass_2  Pclass_3  Sex_female  Sex_male  SibSp_0  \\\n",
       "0  22.0   7.2500         0         0         1           0         1        0   \n",
       "1  38.0  71.2833         1         0         0           1         0        0   \n",
       "2  26.0   7.9250         0         0         1           1         0        1   \n",
       "3  35.0  53.1000         1         0         0           1         0        0   \n",
       "4  35.0   8.0500         0         0         1           0         1        1   \n",
       "\n",
       "   SibSp_1  SibSp_2  ...  Parch_0  Parch_1  Parch_2  Parch_3  Parch_4  \\\n",
       "0        1        0  ...        1        0        0        0        0   \n",
       "1        1        0  ...        1        0        0        0        0   \n",
       "2        0        0  ...        1        0        0        0        0   \n",
       "3        1        0  ...        1        0        0        0        0   \n",
       "4        0        0  ...        1        0        0        0        0   \n",
       "\n",
       "   Parch_5  Parch_6  Embarked_C  Embarked_Q  Embarked_S  \n",
       "0        0        0           0           0           1  \n",
       "1        0        0           1           0           0  \n",
       "2        0        0           0           0           1  \n",
       "3        0        0           0           0           1  \n",
       "4        0        0           0           0           1  \n",
       "\n",
       "[5 rows x 24 columns]"
      ]
     },
     "execution_count": 32,
     "metadata": {},
     "output_type": "execute_result"
    }
   ],
   "source": [
    "x_data.head(5)"
   ]
  },
  {
   "cell_type": "code",
   "execution_count": 33,
   "id": "b256e3a2",
   "metadata": {
    "execution": {
     "iopub.execute_input": "2022-06-09T14:17:58.464279Z",
     "iopub.status.busy": "2022-06-09T14:17:58.463851Z",
     "iopub.status.idle": "2022-06-09T14:17:58.665094Z",
     "shell.execute_reply": "2022-06-09T14:17:58.664062Z"
    },
    "papermill": {
     "duration": 0.237436,
     "end_time": "2022-06-09T14:17:58.667524",
     "exception": false,
     "start_time": "2022-06-09T14:17:58.430088",
     "status": "completed"
    },
    "tags": []
   },
   "outputs": [
    {
     "data": {
      "text/html": [
       "<div>\n",
       "<style scoped>\n",
       "    .dataframe tbody tr th:only-of-type {\n",
       "        vertical-align: middle;\n",
       "    }\n",
       "\n",
       "    .dataframe tbody tr th {\n",
       "        vertical-align: top;\n",
       "    }\n",
       "\n",
       "    .dataframe thead th {\n",
       "        text-align: right;\n",
       "    }\n",
       "</style>\n",
       "<table border=\"1\" class=\"dataframe\">\n",
       "  <thead>\n",
       "    <tr style=\"text-align: right;\">\n",
       "      <th></th>\n",
       "      <th>Age</th>\n",
       "      <th>Fare</th>\n",
       "      <th>Pclass_1</th>\n",
       "      <th>Pclass_2</th>\n",
       "      <th>Pclass_3</th>\n",
       "      <th>Sex_female</th>\n",
       "      <th>Sex_male</th>\n",
       "      <th>SibSp_0</th>\n",
       "      <th>SibSp_1</th>\n",
       "      <th>SibSp_2</th>\n",
       "      <th>...</th>\n",
       "      <th>Parch_0</th>\n",
       "      <th>Parch_1</th>\n",
       "      <th>Parch_2</th>\n",
       "      <th>Parch_3</th>\n",
       "      <th>Parch_4</th>\n",
       "      <th>Parch_5</th>\n",
       "      <th>Parch_6</th>\n",
       "      <th>Embarked_C</th>\n",
       "      <th>Embarked_Q</th>\n",
       "      <th>Embarked_S</th>\n",
       "    </tr>\n",
       "  </thead>\n",
       "  <tbody>\n",
       "    <tr>\n",
       "      <th>0</th>\n",
       "      <td>-0.597055</td>\n",
       "      <td>-0.502445</td>\n",
       "      <td>-0.565685</td>\n",
       "      <td>-0.510152</td>\n",
       "      <td>0.902587</td>\n",
       "      <td>-0.737695</td>\n",
       "      <td>0.737695</td>\n",
       "      <td>-1.465746</td>\n",
       "      <td>1.806421</td>\n",
       "      <td>-0.180125</td>\n",
       "      <td>...</td>\n",
       "      <td>0.560499</td>\n",
       "      <td>-0.390707</td>\n",
       "      <td>-0.314076</td>\n",
       "      <td>-0.075122</td>\n",
       "      <td>-0.067153</td>\n",
       "      <td>-0.075122</td>\n",
       "      <td>-0.03352</td>\n",
       "      <td>-0.482043</td>\n",
       "      <td>-0.307562</td>\n",
       "      <td>0.615838</td>\n",
       "    </tr>\n",
       "    <tr>\n",
       "      <th>1</th>\n",
       "      <td>0.634162</td>\n",
       "      <td>0.786845</td>\n",
       "      <td>1.767767</td>\n",
       "      <td>-0.510152</td>\n",
       "      <td>-1.107926</td>\n",
       "      <td>1.355574</td>\n",
       "      <td>-1.355574</td>\n",
       "      <td>-1.465746</td>\n",
       "      <td>1.806421</td>\n",
       "      <td>-0.180125</td>\n",
       "      <td>...</td>\n",
       "      <td>0.560499</td>\n",
       "      <td>-0.390707</td>\n",
       "      <td>-0.314076</td>\n",
       "      <td>-0.075122</td>\n",
       "      <td>-0.067153</td>\n",
       "      <td>-0.075122</td>\n",
       "      <td>-0.03352</td>\n",
       "      <td>2.074505</td>\n",
       "      <td>-0.307562</td>\n",
       "      <td>-1.623803</td>\n",
       "    </tr>\n",
       "    <tr>\n",
       "      <th>2</th>\n",
       "      <td>-0.289251</td>\n",
       "      <td>-0.488854</td>\n",
       "      <td>-0.565685</td>\n",
       "      <td>-0.510152</td>\n",
       "      <td>0.902587</td>\n",
       "      <td>1.355574</td>\n",
       "      <td>-1.355574</td>\n",
       "      <td>0.682247</td>\n",
       "      <td>-0.553581</td>\n",
       "      <td>-0.180125</td>\n",
       "      <td>...</td>\n",
       "      <td>0.560499</td>\n",
       "      <td>-0.390707</td>\n",
       "      <td>-0.314076</td>\n",
       "      <td>-0.075122</td>\n",
       "      <td>-0.067153</td>\n",
       "      <td>-0.075122</td>\n",
       "      <td>-0.03352</td>\n",
       "      <td>-0.482043</td>\n",
       "      <td>-0.307562</td>\n",
       "      <td>0.615838</td>\n",
       "    </tr>\n",
       "    <tr>\n",
       "      <th>3</th>\n",
       "      <td>0.403309</td>\n",
       "      <td>0.420730</td>\n",
       "      <td>1.767767</td>\n",
       "      <td>-0.510152</td>\n",
       "      <td>-1.107926</td>\n",
       "      <td>1.355574</td>\n",
       "      <td>-1.355574</td>\n",
       "      <td>-1.465746</td>\n",
       "      <td>1.806421</td>\n",
       "      <td>-0.180125</td>\n",
       "      <td>...</td>\n",
       "      <td>0.560499</td>\n",
       "      <td>-0.390707</td>\n",
       "      <td>-0.314076</td>\n",
       "      <td>-0.075122</td>\n",
       "      <td>-0.067153</td>\n",
       "      <td>-0.075122</td>\n",
       "      <td>-0.03352</td>\n",
       "      <td>-0.482043</td>\n",
       "      <td>-0.307562</td>\n",
       "      <td>0.615838</td>\n",
       "    </tr>\n",
       "    <tr>\n",
       "      <th>4</th>\n",
       "      <td>0.403309</td>\n",
       "      <td>-0.486337</td>\n",
       "      <td>-0.565685</td>\n",
       "      <td>-0.510152</td>\n",
       "      <td>0.902587</td>\n",
       "      <td>-0.737695</td>\n",
       "      <td>0.737695</td>\n",
       "      <td>0.682247</td>\n",
       "      <td>-0.553581</td>\n",
       "      <td>-0.180125</td>\n",
       "      <td>...</td>\n",
       "      <td>0.560499</td>\n",
       "      <td>-0.390707</td>\n",
       "      <td>-0.314076</td>\n",
       "      <td>-0.075122</td>\n",
       "      <td>-0.067153</td>\n",
       "      <td>-0.075122</td>\n",
       "      <td>-0.03352</td>\n",
       "      <td>-0.482043</td>\n",
       "      <td>-0.307562</td>\n",
       "      <td>0.615838</td>\n",
       "    </tr>\n",
       "  </tbody>\n",
       "</table>\n",
       "<p>5 rows × 24 columns</p>\n",
       "</div>"
      ],
      "text/plain": [
       "        Age      Fare  Pclass_1  Pclass_2  Pclass_3  Sex_female  Sex_male  \\\n",
       "0 -0.597055 -0.502445 -0.565685 -0.510152  0.902587   -0.737695  0.737695   \n",
       "1  0.634162  0.786845  1.767767 -0.510152 -1.107926    1.355574 -1.355574   \n",
       "2 -0.289251 -0.488854 -0.565685 -0.510152  0.902587    1.355574 -1.355574   \n",
       "3  0.403309  0.420730  1.767767 -0.510152 -1.107926    1.355574 -1.355574   \n",
       "4  0.403309 -0.486337 -0.565685 -0.510152  0.902587   -0.737695  0.737695   \n",
       "\n",
       "    SibSp_0   SibSp_1   SibSp_2  ...   Parch_0   Parch_1   Parch_2   Parch_3  \\\n",
       "0 -1.465746  1.806421 -0.180125  ...  0.560499 -0.390707 -0.314076 -0.075122   \n",
       "1 -1.465746  1.806421 -0.180125  ...  0.560499 -0.390707 -0.314076 -0.075122   \n",
       "2  0.682247 -0.553581 -0.180125  ...  0.560499 -0.390707 -0.314076 -0.075122   \n",
       "3 -1.465746  1.806421 -0.180125  ...  0.560499 -0.390707 -0.314076 -0.075122   \n",
       "4  0.682247 -0.553581 -0.180125  ...  0.560499 -0.390707 -0.314076 -0.075122   \n",
       "\n",
       "    Parch_4   Parch_5  Parch_6  Embarked_C  Embarked_Q  Embarked_S  \n",
       "0 -0.067153 -0.075122 -0.03352   -0.482043   -0.307562    0.615838  \n",
       "1 -0.067153 -0.075122 -0.03352    2.074505   -0.307562   -1.623803  \n",
       "2 -0.067153 -0.075122 -0.03352   -0.482043   -0.307562    0.615838  \n",
       "3 -0.067153 -0.075122 -0.03352   -0.482043   -0.307562    0.615838  \n",
       "4 -0.067153 -0.075122 -0.03352   -0.482043   -0.307562    0.615838  \n",
       "\n",
       "[5 rows x 24 columns]"
      ]
     },
     "execution_count": 33,
     "metadata": {},
     "output_type": "execute_result"
    }
   ],
   "source": [
    "# Normalizing independent data using Standard Scaler\n",
    "\n",
    "from sklearn.preprocessing import StandardScaler\n",
    "\n",
    "# create an instance\n",
    "scaler = StandardScaler()\n",
    "\n",
    "x_scaled = scaler.fit_transform(x_data)\n",
    "x_scaled = pd.DataFrame(x_scaled, columns=x_data.columns)\n",
    "x_scaled.head()"
   ]
  },
  {
   "cell_type": "code",
   "execution_count": 34,
   "id": "537f87e8",
   "metadata": {
    "execution": {
     "iopub.execute_input": "2022-06-09T14:17:58.735732Z",
     "iopub.status.busy": "2022-06-09T14:17:58.734913Z",
     "iopub.status.idle": "2022-06-09T14:17:58.809441Z",
     "shell.execute_reply": "2022-06-09T14:17:58.808538Z"
    },
    "papermill": {
     "duration": 0.11174,
     "end_time": "2022-06-09T14:17:58.811766",
     "exception": false,
     "start_time": "2022-06-09T14:17:58.700026",
     "status": "completed"
    },
    "tags": []
   },
   "outputs": [],
   "source": [
    "from sklearn.model_selection import train_test_split\n",
    "\n",
    "import warnings\n",
    "warnings.filterwarnings('ignore')\n",
    "\n",
    "xtrain, xtest, ytrain, ytest = train_test_split(x_scaled, y_data, random_state=96, stratify=y_data)"
   ]
  },
  {
   "cell_type": "markdown",
   "id": "dffacce4",
   "metadata": {
    "papermill": {
     "duration": 0.032321,
     "end_time": "2022-06-09T14:17:58.877537",
     "exception": false,
     "start_time": "2022-06-09T14:17:58.845216",
     "status": "completed"
    },
    "tags": []
   },
   "source": [
    "## Logistic Regression"
   ]
  },
  {
   "cell_type": "code",
   "execution_count": 35,
   "id": "30500d7a",
   "metadata": {
    "execution": {
     "iopub.execute_input": "2022-06-09T14:17:58.945886Z",
     "iopub.status.busy": "2022-06-09T14:17:58.945427Z",
     "iopub.status.idle": "2022-06-09T14:17:59.038675Z",
     "shell.execute_reply": "2022-06-09T14:17:59.037448Z"
    },
    "papermill": {
     "duration": 0.129712,
     "end_time": "2022-06-09T14:17:59.041027",
     "exception": false,
     "start_time": "2022-06-09T14:17:58.911315",
     "status": "completed"
    },
    "tags": []
   },
   "outputs": [],
   "source": [
    "from sklearn.linear_model import LogisticRegression as LogReg \n",
    "from sklearn.metrics import f1_score"
   ]
  },
  {
   "cell_type": "code",
   "execution_count": 36,
   "id": "fc729cf9",
   "metadata": {
    "execution": {
     "iopub.execute_input": "2022-06-09T14:17:59.108868Z",
     "iopub.status.busy": "2022-06-09T14:17:59.108456Z",
     "iopub.status.idle": "2022-06-09T14:17:59.141481Z",
     "shell.execute_reply": "2022-06-09T14:17:59.140427Z"
    },
    "papermill": {
     "duration": 0.072704,
     "end_time": "2022-06-09T14:17:59.147146",
     "exception": false,
     "start_time": "2022-06-09T14:17:59.074442",
     "status": "completed"
    },
    "tags": []
   },
   "outputs": [
    {
     "name": "stdout",
     "output_type": "stream",
     "text": [
      "F1 score for training dataset is  0.7509881422924901\n",
      "F1 score for testing dataset is  0.736842105263158\n"
     ]
    }
   ],
   "source": [
    "# creating an instance\n",
    "logreg = LogReg()\n",
    "\n",
    "#running logreg model\n",
    "logreg.fit(xtrain, ytrain)\n",
    "\n",
    "# make prediction on train dataset\n",
    "train_predict = logreg.predict(xtrain)\n",
    "\n",
    "# make prediction on test dataset\n",
    "test_predict = logreg.predict(xtest)\n",
    "\n",
    "# f1 score on predicted ydata against training ydata\n",
    "\n",
    "k = f1_score(train_predict, ytrain)\n",
    "kk = f1_score(test_predict, ytest)\n",
    "\n",
    "print('F1 score for training dataset is ', k)\n",
    "print('F1 score for testing dataset is ', kk)"
   ]
  },
  {
   "cell_type": "markdown",
   "id": "fc0959f2",
   "metadata": {
    "papermill": {
     "duration": 0.052372,
     "end_time": "2022-06-09T14:17:59.261798",
     "exception": false,
     "start_time": "2022-06-09T14:17:59.209426",
     "status": "completed"
    },
    "tags": []
   },
   "source": [
    "- The f1_scores on the training and testing data are okay and farely close to one another."
   ]
  },
  {
   "cell_type": "markdown",
   "id": "dedfde0b",
   "metadata": {
    "papermill": {
     "duration": 0.032485,
     "end_time": "2022-06-09T14:17:59.327115",
     "exception": false,
     "start_time": "2022-06-09T14:17:59.294630",
     "status": "completed"
    },
    "tags": []
   },
   "source": [
    "### Evaluation metrics : Confusion Matrix and Classification Report"
   ]
  },
  {
   "cell_type": "code",
   "execution_count": 37,
   "id": "f61a5343",
   "metadata": {
    "execution": {
     "iopub.execute_input": "2022-06-09T14:17:59.395310Z",
     "iopub.status.busy": "2022-06-09T14:17:59.394894Z",
     "iopub.status.idle": "2022-06-09T14:17:59.408594Z",
     "shell.execute_reply": "2022-06-09T14:17:59.406805Z"
    },
    "papermill": {
     "duration": 0.050115,
     "end_time": "2022-06-09T14:17:59.411036",
     "exception": false,
     "start_time": "2022-06-09T14:17:59.360921",
     "status": "completed"
    },
    "tags": []
   },
   "outputs": [
    {
     "name": "stdout",
     "output_type": "stream",
     "text": [
      "[[127  10]\n",
      " [ 30  56]]\n",
      "              precision    recall  f1-score   support\n",
      "\n",
      "           0       0.81      0.93      0.86       137\n",
      "           1       0.85      0.65      0.74        86\n",
      "\n",
      "    accuracy                           0.82       223\n",
      "   macro avg       0.83      0.79      0.80       223\n",
      "weighted avg       0.82      0.82      0.81       223\n",
      "\n"
     ]
    }
   ],
   "source": [
    "from sklearn.metrics import confusion_matrix\n",
    "print(confusion_matrix(ytest, test_predict))\n",
    "\n",
    "from sklearn.metrics import classification_report as rep\n",
    "print(rep(ytest, test_predict))"
   ]
  },
  {
   "cell_type": "code",
   "execution_count": 38,
   "id": "5b080ce4",
   "metadata": {
    "execution": {
     "iopub.execute_input": "2022-06-09T14:17:59.478848Z",
     "iopub.status.busy": "2022-06-09T14:17:59.478187Z",
     "iopub.status.idle": "2022-06-09T14:17:59.493557Z",
     "shell.execute_reply": "2022-06-09T14:17:59.492299Z"
    },
    "papermill": {
     "duration": 0.051772,
     "end_time": "2022-06-09T14:17:59.495812",
     "exception": false,
     "start_time": "2022-06-09T14:17:59.444040",
     "status": "completed"
    },
    "tags": []
   },
   "outputs": [
    {
     "data": {
      "text/html": [
       "<div>\n",
       "<style scoped>\n",
       "    .dataframe tbody tr th:only-of-type {\n",
       "        vertical-align: middle;\n",
       "    }\n",
       "\n",
       "    .dataframe tbody tr th {\n",
       "        vertical-align: top;\n",
       "    }\n",
       "\n",
       "    .dataframe thead th {\n",
       "        text-align: right;\n",
       "    }\n",
       "</style>\n",
       "<table border=\"1\" class=\"dataframe\">\n",
       "  <thead>\n",
       "    <tr style=\"text-align: right;\">\n",
       "      <th></th>\n",
       "      <th>Variables</th>\n",
       "      <th>Coefficients</th>\n",
       "    </tr>\n",
       "  </thead>\n",
       "  <tbody>\n",
       "    <tr>\n",
       "      <th>0</th>\n",
       "      <td>Age</td>\n",
       "      <td>0.492716</td>\n",
       "    </tr>\n",
       "    <tr>\n",
       "      <th>2</th>\n",
       "      <td>Pclass_1</td>\n",
       "      <td>0.478749</td>\n",
       "    </tr>\n",
       "    <tr>\n",
       "      <th>4</th>\n",
       "      <td>Pclass_3</td>\n",
       "      <td>0.477042</td>\n",
       "    </tr>\n",
       "    <tr>\n",
       "      <th>5</th>\n",
       "      <td>Sex_female</td>\n",
       "      <td>0.611555</td>\n",
       "    </tr>\n",
       "    <tr>\n",
       "      <th>6</th>\n",
       "      <td>Sex_male</td>\n",
       "      <td>0.611555</td>\n",
       "    </tr>\n",
       "    <tr>\n",
       "      <th>12</th>\n",
       "      <td>SibSp_5</td>\n",
       "      <td>0.343239</td>\n",
       "    </tr>\n",
       "    <tr>\n",
       "      <th>13</th>\n",
       "      <td>SibSp_8</td>\n",
       "      <td>0.405972</td>\n",
       "    </tr>\n",
       "    <tr>\n",
       "      <th>18</th>\n",
       "      <td>Parch_4</td>\n",
       "      <td>0.314422</td>\n",
       "    </tr>\n",
       "  </tbody>\n",
       "</table>\n",
       "</div>"
      ],
      "text/plain": [
       "     Variables  Coefficients\n",
       "0          Age      0.492716\n",
       "2     Pclass_1      0.478749\n",
       "4     Pclass_3      0.477042\n",
       "5   Sex_female      0.611555\n",
       "6     Sex_male      0.611555\n",
       "12     SibSp_5      0.343239\n",
       "13     SibSp_8      0.405972\n",
       "18     Parch_4      0.314422"
      ]
     },
     "execution_count": 38,
     "metadata": {},
     "output_type": "execute_result"
    }
   ],
   "source": [
    "### Significant Coefficients\n",
    "\n",
    "Coef = pd.DataFrame({\n",
    "    \"Variables\" : xtrain.columns,\n",
    "    \"Coefficients\" : abs(logreg.coef_.reshape(-1))\n",
    "\n",
    "})\n",
    "Coef.head()\n",
    "\n",
    "sig_var = Coef[Coef.Coefficients > 0.3]\n",
    "sig_var"
   ]
  },
  {
   "cell_type": "markdown",
   "id": "a95fffaa",
   "metadata": {
    "papermill": {
     "duration": 0.033974,
     "end_time": "2022-06-09T14:17:59.562921",
     "exception": false,
     "start_time": "2022-06-09T14:17:59.528947",
     "status": "completed"
    },
    "tags": []
   },
   "source": [
    "- Sex, age and passenger class 3 are the most significant coefficients with regard to survival."
   ]
  },
  {
   "cell_type": "markdown",
   "id": "b40d7140",
   "metadata": {
    "papermill": {
     "duration": 0.033027,
     "end_time": "2022-06-09T14:17:59.629144",
     "exception": false,
     "start_time": "2022-06-09T14:17:59.596117",
     "status": "completed"
    },
    "tags": []
   },
   "source": [
    "### Logistic Regression Based on Significant Columns"
   ]
  },
  {
   "cell_type": "code",
   "execution_count": 39,
   "id": "ade1005a",
   "metadata": {
    "execution": {
     "iopub.execute_input": "2022-06-09T14:17:59.697600Z",
     "iopub.status.busy": "2022-06-09T14:17:59.696886Z",
     "iopub.status.idle": "2022-06-09T14:17:59.715968Z",
     "shell.execute_reply": "2022-06-09T14:17:59.715042Z"
    },
    "papermill": {
     "duration": 0.055719,
     "end_time": "2022-06-09T14:17:59.718104",
     "exception": false,
     "start_time": "2022-06-09T14:17:59.662385",
     "status": "completed"
    },
    "tags": []
   },
   "outputs": [
    {
     "data": {
      "text/html": [
       "<div>\n",
       "<style scoped>\n",
       "    .dataframe tbody tr th:only-of-type {\n",
       "        vertical-align: middle;\n",
       "    }\n",
       "\n",
       "    .dataframe tbody tr th {\n",
       "        vertical-align: top;\n",
       "    }\n",
       "\n",
       "    .dataframe thead th {\n",
       "        text-align: right;\n",
       "    }\n",
       "</style>\n",
       "<table border=\"1\" class=\"dataframe\">\n",
       "  <thead>\n",
       "    <tr style=\"text-align: right;\">\n",
       "      <th></th>\n",
       "      <th>Age</th>\n",
       "      <th>Pclass_1</th>\n",
       "      <th>Pclass_3</th>\n",
       "      <th>Sex_female</th>\n",
       "      <th>Sex_male</th>\n",
       "      <th>SibSp_8</th>\n",
       "      <th>Parch_4</th>\n",
       "    </tr>\n",
       "  </thead>\n",
       "  <tbody>\n",
       "    <tr>\n",
       "      <th>0</th>\n",
       "      <td>-0.597055</td>\n",
       "      <td>-0.565685</td>\n",
       "      <td>0.902587</td>\n",
       "      <td>-0.737695</td>\n",
       "      <td>0.737695</td>\n",
       "      <td>-0.088986</td>\n",
       "      <td>-0.067153</td>\n",
       "    </tr>\n",
       "    <tr>\n",
       "      <th>1</th>\n",
       "      <td>0.634162</td>\n",
       "      <td>1.767767</td>\n",
       "      <td>-1.107926</td>\n",
       "      <td>1.355574</td>\n",
       "      <td>-1.355574</td>\n",
       "      <td>-0.088986</td>\n",
       "      <td>-0.067153</td>\n",
       "    </tr>\n",
       "    <tr>\n",
       "      <th>2</th>\n",
       "      <td>-0.289251</td>\n",
       "      <td>-0.565685</td>\n",
       "      <td>0.902587</td>\n",
       "      <td>1.355574</td>\n",
       "      <td>-1.355574</td>\n",
       "      <td>-0.088986</td>\n",
       "      <td>-0.067153</td>\n",
       "    </tr>\n",
       "    <tr>\n",
       "      <th>3</th>\n",
       "      <td>0.403309</td>\n",
       "      <td>1.767767</td>\n",
       "      <td>-1.107926</td>\n",
       "      <td>1.355574</td>\n",
       "      <td>-1.355574</td>\n",
       "      <td>-0.088986</td>\n",
       "      <td>-0.067153</td>\n",
       "    </tr>\n",
       "    <tr>\n",
       "      <th>4</th>\n",
       "      <td>0.403309</td>\n",
       "      <td>-0.565685</td>\n",
       "      <td>0.902587</td>\n",
       "      <td>-0.737695</td>\n",
       "      <td>0.737695</td>\n",
       "      <td>-0.088986</td>\n",
       "      <td>-0.067153</td>\n",
       "    </tr>\n",
       "    <tr>\n",
       "      <th>...</th>\n",
       "      <td>...</td>\n",
       "      <td>...</td>\n",
       "      <td>...</td>\n",
       "      <td>...</td>\n",
       "      <td>...</td>\n",
       "      <td>...</td>\n",
       "      <td>...</td>\n",
       "    </tr>\n",
       "    <tr>\n",
       "      <th>886</th>\n",
       "      <td>-0.212299</td>\n",
       "      <td>-0.565685</td>\n",
       "      <td>-1.107926</td>\n",
       "      <td>-0.737695</td>\n",
       "      <td>0.737695</td>\n",
       "      <td>-0.088986</td>\n",
       "      <td>-0.067153</td>\n",
       "    </tr>\n",
       "    <tr>\n",
       "      <th>887</th>\n",
       "      <td>-0.827908</td>\n",
       "      <td>1.767767</td>\n",
       "      <td>-1.107926</td>\n",
       "      <td>1.355574</td>\n",
       "      <td>-1.355574</td>\n",
       "      <td>-0.088986</td>\n",
       "      <td>-0.067153</td>\n",
       "    </tr>\n",
       "    <tr>\n",
       "      <th>888</th>\n",
       "      <td>0.018554</td>\n",
       "      <td>-0.565685</td>\n",
       "      <td>0.902587</td>\n",
       "      <td>1.355574</td>\n",
       "      <td>-1.355574</td>\n",
       "      <td>-0.088986</td>\n",
       "      <td>-0.067153</td>\n",
       "    </tr>\n",
       "    <tr>\n",
       "      <th>889</th>\n",
       "      <td>-0.289251</td>\n",
       "      <td>1.767767</td>\n",
       "      <td>-1.107926</td>\n",
       "      <td>-0.737695</td>\n",
       "      <td>0.737695</td>\n",
       "      <td>-0.088986</td>\n",
       "      <td>-0.067153</td>\n",
       "    </tr>\n",
       "    <tr>\n",
       "      <th>890</th>\n",
       "      <td>0.172456</td>\n",
       "      <td>-0.565685</td>\n",
       "      <td>0.902587</td>\n",
       "      <td>-0.737695</td>\n",
       "      <td>0.737695</td>\n",
       "      <td>-0.088986</td>\n",
       "      <td>-0.067153</td>\n",
       "    </tr>\n",
       "  </tbody>\n",
       "</table>\n",
       "<p>891 rows × 7 columns</p>\n",
       "</div>"
      ],
      "text/plain": [
       "          Age  Pclass_1  Pclass_3  Sex_female  Sex_male   SibSp_8   Parch_4\n",
       "0   -0.597055 -0.565685  0.902587   -0.737695  0.737695 -0.088986 -0.067153\n",
       "1    0.634162  1.767767 -1.107926    1.355574 -1.355574 -0.088986 -0.067153\n",
       "2   -0.289251 -0.565685  0.902587    1.355574 -1.355574 -0.088986 -0.067153\n",
       "3    0.403309  1.767767 -1.107926    1.355574 -1.355574 -0.088986 -0.067153\n",
       "4    0.403309 -0.565685  0.902587   -0.737695  0.737695 -0.088986 -0.067153\n",
       "..        ...       ...       ...         ...       ...       ...       ...\n",
       "886 -0.212299 -0.565685 -1.107926   -0.737695  0.737695 -0.088986 -0.067153\n",
       "887 -0.827908  1.767767 -1.107926    1.355574 -1.355574 -0.088986 -0.067153\n",
       "888  0.018554 -0.565685  0.902587    1.355574 -1.355574 -0.088986 -0.067153\n",
       "889 -0.289251  1.767767 -1.107926   -0.737695  0.737695 -0.088986 -0.067153\n",
       "890  0.172456 -0.565685  0.902587   -0.737695  0.737695 -0.088986 -0.067153\n",
       "\n",
       "[891 rows x 7 columns]"
      ]
     },
     "execution_count": 39,
     "metadata": {},
     "output_type": "execute_result"
    }
   ],
   "source": [
    "sig_data = x_scaled[['Age',\n",
    " 'Pclass_1',\n",
    " 'Pclass_3',\n",
    " 'Sex_female',\n",
    " 'Sex_male',\n",
    " 'SibSp_8',\n",
    " 'Parch_4']]\n",
    "\n",
    "sig_data"
   ]
  },
  {
   "cell_type": "code",
   "execution_count": 40,
   "id": "3f8cd252",
   "metadata": {
    "execution": {
     "iopub.execute_input": "2022-06-09T14:17:59.786960Z",
     "iopub.status.busy": "2022-06-09T14:17:59.786240Z",
     "iopub.status.idle": "2022-06-09T14:17:59.794053Z",
     "shell.execute_reply": "2022-06-09T14:17:59.793263Z"
    },
    "papermill": {
     "duration": 0.04446,
     "end_time": "2022-06-09T14:17:59.796021",
     "exception": false,
     "start_time": "2022-06-09T14:17:59.751561",
     "status": "completed"
    },
    "tags": []
   },
   "outputs": [],
   "source": [
    "x_train, x_test, y_train, y_test = train_test_split(sig_data,y_data, random_state=42, stratify=y_data)"
   ]
  },
  {
   "cell_type": "code",
   "execution_count": 41,
   "id": "f37d983f",
   "metadata": {
    "execution": {
     "iopub.execute_input": "2022-06-09T14:17:59.865207Z",
     "iopub.status.busy": "2022-06-09T14:17:59.864315Z",
     "iopub.status.idle": "2022-06-09T14:17:59.884679Z",
     "shell.execute_reply": "2022-06-09T14:17:59.883653Z"
    },
    "papermill": {
     "duration": 0.057552,
     "end_time": "2022-06-09T14:17:59.887055",
     "exception": false,
     "start_time": "2022-06-09T14:17:59.829503",
     "status": "completed"
    },
    "tags": []
   },
   "outputs": [
    {
     "name": "stdout",
     "output_type": "stream",
     "text": [
      "F1 score for training dataset is  0.7322834645669293\n",
      "F1 score for testing dataset is  0.7150837988826816\n"
     ]
    }
   ],
   "source": [
    "# creating an instance\n",
    "logreg = LogReg()\n",
    "\n",
    "#running logreg model\n",
    "logreg.fit(x_train, y_train)\n",
    "\n",
    "# make prediction on train dataset\n",
    "train_predict = logreg.predict(x_train)\n",
    "\n",
    "# make prediction on test dataset\n",
    "test_predict = logreg.predict(x_test)\n",
    "\n",
    "# f1 score on predicted ydata against training ydata\n",
    "\n",
    "k = f1_score(train_predict, y_train)\n",
    "kk = f1_score(test_predict, y_test)\n",
    "\n",
    "print('F1 score for training dataset is ', k)\n",
    "print('F1 score for testing dataset is ', kk)"
   ]
  },
  {
   "cell_type": "markdown",
   "id": "815b2723",
   "metadata": {
    "papermill": {
     "duration": 0.033421,
     "end_time": "2022-06-09T14:17:59.954733",
     "exception": false,
     "start_time": "2022-06-09T14:17:59.921312",
     "status": "completed"
    },
    "tags": []
   },
   "source": [
    "- F1 score reduces from the F1 score of the model containing all columns"
   ]
  },
  {
   "cell_type": "markdown",
   "id": "ec5b39d0",
   "metadata": {
    "papermill": {
     "duration": 0.033716,
     "end_time": "2022-06-09T14:18:00.022610",
     "exception": false,
     "start_time": "2022-06-09T14:17:59.988894",
     "status": "completed"
    },
    "tags": []
   },
   "source": [
    "## KFold"
   ]
  },
  {
   "cell_type": "code",
   "execution_count": 42,
   "id": "ab43bcc2",
   "metadata": {
    "execution": {
     "iopub.execute_input": "2022-06-09T14:18:00.093204Z",
     "iopub.status.busy": "2022-06-09T14:18:00.092584Z",
     "iopub.status.idle": "2022-06-09T14:18:00.096917Z",
     "shell.execute_reply": "2022-06-09T14:18:00.095825Z"
    },
    "papermill": {
     "duration": 0.042136,
     "end_time": "2022-06-09T14:18:00.099018",
     "exception": false,
     "start_time": "2022-06-09T14:18:00.056882",
     "status": "completed"
    },
    "tags": []
   },
   "outputs": [],
   "source": [
    "from sklearn.model_selection import KFold # for validation"
   ]
  },
  {
   "cell_type": "code",
   "execution_count": 43,
   "id": "d3ee880f",
   "metadata": {
    "execution": {
     "iopub.execute_input": "2022-06-09T14:18:00.168520Z",
     "iopub.status.busy": "2022-06-09T14:18:00.167901Z",
     "iopub.status.idle": "2022-06-09T14:18:00.177416Z",
     "shell.execute_reply": "2022-06-09T14:18:00.176735Z"
    },
    "papermill": {
     "duration": 0.046945,
     "end_time": "2022-06-09T14:18:00.179771",
     "exception": false,
     "start_time": "2022-06-09T14:18:00.132826",
     "status": "completed"
    },
    "tags": []
   },
   "outputs": [],
   "source": [
    "def cv_score(ml_model, rstate = 42,cols = x_data.columns):\n",
    "    #initialize\n",
    "    i = 1\n",
    "    cv_scores = []\n",
    "    \n",
    "    # data\n",
    "    df1 = x_data.copy()\n",
    "    df1 = x_data[cols]\n",
    "    df_y = y_data\n",
    "    \n",
    "    # initialize kfold\n",
    "    kf = KFold(n_splits=5,random_state=rstate,shuffle=True)\n",
    "    \n",
    "    for train_index,test_index in kf.split(df1,df_y):\n",
    "        print('\\n{} of kfold {}'.format(i,kf.n_splits))\n",
    "        \n",
    "        xtr,xvl = df1.loc[train_index],df1.loc[test_index]\n",
    "        ytr,yvl = df_y[train_index],df_y[test_index]\n",
    "\n",
    "        model = ml_model\n",
    "        model.fit(xtr, ytr)\n",
    "        \n",
    "        train_val = model.predict(xtr)\n",
    "        pred_val = model.predict(xvl)\n",
    "        \n",
    "        f1score_train = f1_score(ytr, train_val)\n",
    "        f1score = f1_score(yvl, pred_val)\n",
    "        \n",
    "        sufix = \"\"\n",
    "        msg = \"\"\n",
    "        msg += \"Valid f1score: {:.5f}\".format(f1score)\n",
    "        print(\"{}\".format(msg))\n",
    "        # Save scores\n",
    "        cv_scores.append(f1score)\n",
    "        i+=1\n",
    "    return cv_scores"
   ]
  },
  {
   "cell_type": "code",
   "execution_count": 44,
   "id": "fcf5b3b9",
   "metadata": {
    "execution": {
     "iopub.execute_input": "2022-06-09T14:18:00.249587Z",
     "iopub.status.busy": "2022-06-09T14:18:00.248966Z",
     "iopub.status.idle": "2022-06-09T14:18:00.597299Z",
     "shell.execute_reply": "2022-06-09T14:18:00.596225Z"
    },
    "papermill": {
     "duration": 0.387036,
     "end_time": "2022-06-09T14:18:00.601095",
     "exception": false,
     "start_time": "2022-06-09T14:18:00.214059",
     "status": "completed"
    },
    "tags": []
   },
   "outputs": [
    {
     "name": "stdout",
     "output_type": "stream",
     "text": [
      "\n",
      "1 of kfold 5\n",
      "Valid f1score: 0.74648\n",
      "\n",
      "2 of kfold 5\n",
      "Valid f1score: 0.73171\n",
      "\n",
      "3 of kfold 5\n",
      "Valid f1score: 0.81159\n",
      "\n",
      "4 of kfold 5\n",
      "Valid f1score: 0.65600\n",
      "\n",
      "5 of kfold 5\n",
      "Valid f1score: 0.73846\n"
     ]
    }
   ],
   "source": [
    "logreg_kfold = cv_score(LogReg())"
   ]
  },
  {
   "cell_type": "markdown",
   "id": "fd3d85d1",
   "metadata": {
    "papermill": {
     "duration": 0.05389,
     "end_time": "2022-06-09T14:18:00.718628",
     "exception": false,
     "start_time": "2022-06-09T14:18:00.664738",
     "status": "completed"
    },
    "tags": []
   },
   "source": [
    "- The f1 score for kfolds 1 and 3 are higher than the f1 score on the logistic regression model with no folds.\n",
    "\n",
    "- The f1 score for 3 kfolds is the highest, and good enough to confirm that the model predicts each observation correctly.\n",
    "\n",
    "- It can therefore be used on the test data."
   ]
  },
  {
   "cell_type": "markdown",
   "id": "3661e940",
   "metadata": {
    "papermill": {
     "duration": 0.034419,
     "end_time": "2022-06-09T14:18:00.786661",
     "exception": false,
     "start_time": "2022-06-09T14:18:00.752242",
     "status": "completed"
    },
    "tags": []
   },
   "source": [
    "### k fold on significant data\n"
   ]
  },
  {
   "cell_type": "code",
   "execution_count": 45,
   "id": "cadaf93e",
   "metadata": {
    "execution": {
     "iopub.execute_input": "2022-06-09T14:18:00.857074Z",
     "iopub.status.busy": "2022-06-09T14:18:00.856707Z",
     "iopub.status.idle": "2022-06-09T14:18:00.936303Z",
     "shell.execute_reply": "2022-06-09T14:18:00.935165Z"
    },
    "papermill": {
     "duration": 0.118668,
     "end_time": "2022-06-09T14:18:00.939986",
     "exception": false,
     "start_time": "2022-06-09T14:18:00.821318",
     "status": "completed"
    },
    "tags": []
   },
   "outputs": [
    {
     "name": "stdout",
     "output_type": "stream",
     "text": [
      "\n",
      "1 of kfold 5\n",
      "Valid f1score: 0.74648\n",
      "\n",
      "2 of kfold 5\n",
      "Valid f1score: 0.68800\n",
      "\n",
      "3 of kfold 5\n",
      "Valid f1score: 0.78873\n",
      "\n",
      "4 of kfold 5\n",
      "Valid f1score: 0.64000\n",
      "\n",
      "5 of kfold 5\n",
      "Valid f1score: 0.72464\n"
     ]
    }
   ],
   "source": [
    "#k fold on significant data\n",
    "\n",
    "def cv_score(ml_model, rstate = 42,cols = sig_data.columns):\n",
    "    #initialize\n",
    "    i = 1\n",
    "    cv_scores = []\n",
    "    \n",
    "    # data\n",
    "    df1 = sig_data.copy()\n",
    "    df1 = sig_data[cols]\n",
    "    df_y = y_data\n",
    "    \n",
    "    # initialize kfold\n",
    "    kf = KFold(n_splits=5,random_state=rstate,shuffle=True)\n",
    "    \n",
    "    for train_index,test_index in kf.split(df1,df_y):\n",
    "        print('\\n{} of kfold {}'.format(i,kf.n_splits))\n",
    "        \n",
    "        xtr,xvl = df1.loc[train_index],df1.loc[test_index]\n",
    "        ytr,yvl = df_y[train_index],df_y[test_index]\n",
    "\n",
    "        model = ml_model\n",
    "        model.fit(xtr, ytr)\n",
    "        \n",
    "        train_val = model.predict(xtr)\n",
    "        pred_val = model.predict(xvl)\n",
    "        \n",
    "        f1score_train = f1_score(ytr, train_val)\n",
    "        f1score = f1_score(yvl, pred_val)\n",
    "        \n",
    "        sufix = \"\"\n",
    "        msg = \"\"\n",
    "        msg += \"Valid f1score: {:.5f}\".format(f1score)\n",
    "        print(\"{}\".format(msg))\n",
    "        # Save scores\n",
    "        cv_scores.append(f1score)\n",
    "        i+=1\n",
    "    return cv_scores\n",
    "\n",
    "logreg_sig = cv_score(LogReg())"
   ]
  },
  {
   "cell_type": "markdown",
   "id": "e8d85672",
   "metadata": {
    "papermill": {
     "duration": 0.035775,
     "end_time": "2022-06-09T14:18:01.010889",
     "exception": false,
     "start_time": "2022-06-09T14:18:00.975114",
     "status": "completed"
    },
    "tags": []
   },
   "source": [
    "- K Fold on significant data lower, with highest F1 score noted on kfold splits = 3"
   ]
  },
  {
   "cell_type": "code",
   "execution_count": 46,
   "id": "55bc2fc1",
   "metadata": {
    "execution": {
     "iopub.execute_input": "2022-06-09T14:18:01.084419Z",
     "iopub.status.busy": "2022-06-09T14:18:01.083936Z",
     "iopub.status.idle": "2022-06-09T14:18:01.099155Z",
     "shell.execute_reply": "2022-06-09T14:18:01.098389Z"
    },
    "papermill": {
     "duration": 0.05315,
     "end_time": "2022-06-09T14:18:01.101534",
     "exception": false,
     "start_time": "2022-06-09T14:18:01.048384",
     "status": "completed"
    },
    "tags": []
   },
   "outputs": [],
   "source": [
    "## Predict using 3 folds on test data\n",
    "\n",
    "test_data = pd.read_csv(\"../input/titanic/test.csv\")"
   ]
  },
  {
   "cell_type": "code",
   "execution_count": 47,
   "id": "8175ba3f",
   "metadata": {
    "execution": {
     "iopub.execute_input": "2022-06-09T14:18:01.172618Z",
     "iopub.status.busy": "2022-06-09T14:18:01.172180Z",
     "iopub.status.idle": "2022-06-09T14:18:01.187378Z",
     "shell.execute_reply": "2022-06-09T14:18:01.186431Z"
    },
    "papermill": {
     "duration": 0.053187,
     "end_time": "2022-06-09T14:18:01.189468",
     "exception": false,
     "start_time": "2022-06-09T14:18:01.136281",
     "status": "completed"
    },
    "tags": []
   },
   "outputs": [
    {
     "data": {
      "text/html": [
       "<div>\n",
       "<style scoped>\n",
       "    .dataframe tbody tr th:only-of-type {\n",
       "        vertical-align: middle;\n",
       "    }\n",
       "\n",
       "    .dataframe tbody tr th {\n",
       "        vertical-align: top;\n",
       "    }\n",
       "\n",
       "    .dataframe thead th {\n",
       "        text-align: right;\n",
       "    }\n",
       "</style>\n",
       "<table border=\"1\" class=\"dataframe\">\n",
       "  <thead>\n",
       "    <tr style=\"text-align: right;\">\n",
       "      <th></th>\n",
       "      <th>PassengerId</th>\n",
       "      <th>Pclass</th>\n",
       "      <th>Name</th>\n",
       "      <th>Sex</th>\n",
       "      <th>Age</th>\n",
       "      <th>SibSp</th>\n",
       "      <th>Parch</th>\n",
       "      <th>Ticket</th>\n",
       "      <th>Fare</th>\n",
       "      <th>Cabin</th>\n",
       "      <th>Embarked</th>\n",
       "    </tr>\n",
       "  </thead>\n",
       "  <tbody>\n",
       "    <tr>\n",
       "      <th>0</th>\n",
       "      <td>892</td>\n",
       "      <td>3</td>\n",
       "      <td>Kelly, Mr. James</td>\n",
       "      <td>male</td>\n",
       "      <td>34.5</td>\n",
       "      <td>0</td>\n",
       "      <td>0</td>\n",
       "      <td>330911</td>\n",
       "      <td>7.8292</td>\n",
       "      <td>NaN</td>\n",
       "      <td>Q</td>\n",
       "    </tr>\n",
       "    <tr>\n",
       "      <th>1</th>\n",
       "      <td>893</td>\n",
       "      <td>3</td>\n",
       "      <td>Wilkes, Mrs. James (Ellen Needs)</td>\n",
       "      <td>female</td>\n",
       "      <td>47.0</td>\n",
       "      <td>1</td>\n",
       "      <td>0</td>\n",
       "      <td>363272</td>\n",
       "      <td>7.0000</td>\n",
       "      <td>NaN</td>\n",
       "      <td>S</td>\n",
       "    </tr>\n",
       "    <tr>\n",
       "      <th>2</th>\n",
       "      <td>894</td>\n",
       "      <td>2</td>\n",
       "      <td>Myles, Mr. Thomas Francis</td>\n",
       "      <td>male</td>\n",
       "      <td>62.0</td>\n",
       "      <td>0</td>\n",
       "      <td>0</td>\n",
       "      <td>240276</td>\n",
       "      <td>9.6875</td>\n",
       "      <td>NaN</td>\n",
       "      <td>Q</td>\n",
       "    </tr>\n",
       "    <tr>\n",
       "      <th>3</th>\n",
       "      <td>895</td>\n",
       "      <td>3</td>\n",
       "      <td>Wirz, Mr. Albert</td>\n",
       "      <td>male</td>\n",
       "      <td>27.0</td>\n",
       "      <td>0</td>\n",
       "      <td>0</td>\n",
       "      <td>315154</td>\n",
       "      <td>8.6625</td>\n",
       "      <td>NaN</td>\n",
       "      <td>S</td>\n",
       "    </tr>\n",
       "    <tr>\n",
       "      <th>4</th>\n",
       "      <td>896</td>\n",
       "      <td>3</td>\n",
       "      <td>Hirvonen, Mrs. Alexander (Helga E Lindqvist)</td>\n",
       "      <td>female</td>\n",
       "      <td>22.0</td>\n",
       "      <td>1</td>\n",
       "      <td>1</td>\n",
       "      <td>3101298</td>\n",
       "      <td>12.2875</td>\n",
       "      <td>NaN</td>\n",
       "      <td>S</td>\n",
       "    </tr>\n",
       "  </tbody>\n",
       "</table>\n",
       "</div>"
      ],
      "text/plain": [
       "   PassengerId  Pclass                                          Name     Sex  \\\n",
       "0          892       3                              Kelly, Mr. James    male   \n",
       "1          893       3              Wilkes, Mrs. James (Ellen Needs)  female   \n",
       "2          894       2                     Myles, Mr. Thomas Francis    male   \n",
       "3          895       3                              Wirz, Mr. Albert    male   \n",
       "4          896       3  Hirvonen, Mrs. Alexander (Helga E Lindqvist)  female   \n",
       "\n",
       "    Age  SibSp  Parch   Ticket     Fare Cabin Embarked  \n",
       "0  34.5      0      0   330911   7.8292   NaN        Q  \n",
       "1  47.0      1      0   363272   7.0000   NaN        S  \n",
       "2  62.0      0      0   240276   9.6875   NaN        Q  \n",
       "3  27.0      0      0   315154   8.6625   NaN        S  \n",
       "4  22.0      1      1  3101298  12.2875   NaN        S  "
      ]
     },
     "execution_count": 47,
     "metadata": {},
     "output_type": "execute_result"
    }
   ],
   "source": [
    "test_data.head()"
   ]
  },
  {
   "cell_type": "code",
   "execution_count": 48,
   "id": "f2c1c27d",
   "metadata": {
    "execution": {
     "iopub.execute_input": "2022-06-09T14:18:01.259844Z",
     "iopub.status.busy": "2022-06-09T14:18:01.259256Z",
     "iopub.status.idle": "2022-06-09T14:18:01.265312Z",
     "shell.execute_reply": "2022-06-09T14:18:01.264381Z"
    },
    "papermill": {
     "duration": 0.043555,
     "end_time": "2022-06-09T14:18:01.267179",
     "exception": false,
     "start_time": "2022-06-09T14:18:01.223624",
     "status": "completed"
    },
    "tags": []
   },
   "outputs": [
    {
     "data": {
      "text/plain": [
       "(418, 11)"
      ]
     },
     "execution_count": 48,
     "metadata": {},
     "output_type": "execute_result"
    }
   ],
   "source": [
    "test_data.shape"
   ]
  },
  {
   "cell_type": "code",
   "execution_count": 49,
   "id": "38ad7c55",
   "metadata": {
    "execution": {
     "iopub.execute_input": "2022-06-09T14:18:01.337068Z",
     "iopub.status.busy": "2022-06-09T14:18:01.336714Z",
     "iopub.status.idle": "2022-06-09T14:18:01.346297Z",
     "shell.execute_reply": "2022-06-09T14:18:01.345112Z"
    },
    "papermill": {
     "duration": 0.047272,
     "end_time": "2022-06-09T14:18:01.348452",
     "exception": false,
     "start_time": "2022-06-09T14:18:01.301180",
     "status": "completed"
    },
    "tags": []
   },
   "outputs": [
    {
     "data": {
      "text/plain": [
       "PassengerId      0\n",
       "Pclass           0\n",
       "Name             0\n",
       "Sex              0\n",
       "Age             86\n",
       "SibSp            0\n",
       "Parch            0\n",
       "Ticket           0\n",
       "Fare             1\n",
       "Cabin          327\n",
       "Embarked         0\n",
       "dtype: int64"
      ]
     },
     "execution_count": 49,
     "metadata": {},
     "output_type": "execute_result"
    }
   ],
   "source": [
    "test_data.isnull().sum()"
   ]
  },
  {
   "cell_type": "code",
   "execution_count": 50,
   "id": "4196e2fb",
   "metadata": {
    "execution": {
     "iopub.execute_input": "2022-06-09T14:18:01.420153Z",
     "iopub.status.busy": "2022-06-09T14:18:01.419319Z",
     "iopub.status.idle": "2022-06-09T14:18:01.425410Z",
     "shell.execute_reply": "2022-06-09T14:18:01.424365Z"
    },
    "papermill": {
     "duration": 0.043826,
     "end_time": "2022-06-09T14:18:01.427500",
     "exception": false,
     "start_time": "2022-06-09T14:18:01.383674",
     "status": "completed"
    },
    "tags": []
   },
   "outputs": [],
   "source": [
    "age_mean_val = test_data['Age'].mean().round()\n",
    "test_data['Age'] = test_data['Age'].fillna(age_mean_val)"
   ]
  },
  {
   "cell_type": "code",
   "execution_count": 51,
   "id": "da003cb5",
   "metadata": {
    "execution": {
     "iopub.execute_input": "2022-06-09T14:18:01.497871Z",
     "iopub.status.busy": "2022-06-09T14:18:01.497417Z",
     "iopub.status.idle": "2022-06-09T14:18:01.506045Z",
     "shell.execute_reply": "2022-06-09T14:18:01.505115Z"
    },
    "papermill": {
     "duration": 0.046504,
     "end_time": "2022-06-09T14:18:01.508266",
     "exception": false,
     "start_time": "2022-06-09T14:18:01.461762",
     "status": "completed"
    },
    "tags": []
   },
   "outputs": [],
   "source": [
    "fare_mean_val = test_data['Fare'].mean()\n",
    "test_data['Fare'] = test_data['Fare'].fillna(fare_mean_val)"
   ]
  },
  {
   "cell_type": "code",
   "execution_count": 52,
   "id": "4fbb01be",
   "metadata": {
    "execution": {
     "iopub.execute_input": "2022-06-09T14:18:01.580856Z",
     "iopub.status.busy": "2022-06-09T14:18:01.579971Z",
     "iopub.status.idle": "2022-06-09T14:18:01.585704Z",
     "shell.execute_reply": "2022-06-09T14:18:01.585046Z"
    },
    "papermill": {
     "duration": 0.044302,
     "end_time": "2022-06-09T14:18:01.587797",
     "exception": false,
     "start_time": "2022-06-09T14:18:01.543495",
     "status": "completed"
    },
    "tags": []
   },
   "outputs": [],
   "source": [
    "cabin_mode_val = test_data['Cabin'].mode()[0]\n",
    "test_data['Cabin'] = test_data['Cabin'].fillna(cabin_mode_val)"
   ]
  },
  {
   "cell_type": "code",
   "execution_count": 53,
   "id": "ae3893d1",
   "metadata": {
    "execution": {
     "iopub.execute_input": "2022-06-09T14:18:01.659286Z",
     "iopub.status.busy": "2022-06-09T14:18:01.658656Z",
     "iopub.status.idle": "2022-06-09T14:18:01.666734Z",
     "shell.execute_reply": "2022-06-09T14:18:01.665779Z"
    },
    "papermill": {
     "duration": 0.045712,
     "end_time": "2022-06-09T14:18:01.668647",
     "exception": false,
     "start_time": "2022-06-09T14:18:01.622935",
     "status": "completed"
    },
    "tags": []
   },
   "outputs": [
    {
     "data": {
      "text/plain": [
       "PassengerId    0\n",
       "Pclass         0\n",
       "Name           0\n",
       "Sex            0\n",
       "Age            0\n",
       "SibSp          0\n",
       "Parch          0\n",
       "Ticket         0\n",
       "Fare           0\n",
       "Cabin          0\n",
       "Embarked       0\n",
       "dtype: int64"
      ]
     },
     "execution_count": 53,
     "metadata": {},
     "output_type": "execute_result"
    }
   ],
   "source": [
    "test_data.isnull().sum()"
   ]
  },
  {
   "cell_type": "code",
   "execution_count": 54,
   "id": "308b6e6c",
   "metadata": {
    "execution": {
     "iopub.execute_input": "2022-06-09T14:18:01.740844Z",
     "iopub.status.busy": "2022-06-09T14:18:01.739976Z",
     "iopub.status.idle": "2022-06-09T14:18:01.755052Z",
     "shell.execute_reply": "2022-06-09T14:18:01.754077Z"
    },
    "papermill": {
     "duration": 0.053897,
     "end_time": "2022-06-09T14:18:01.757032",
     "exception": false,
     "start_time": "2022-06-09T14:18:01.703135",
     "status": "completed"
    },
    "tags": []
   },
   "outputs": [
    {
     "data": {
      "text/html": [
       "<div>\n",
       "<style scoped>\n",
       "    .dataframe tbody tr th:only-of-type {\n",
       "        vertical-align: middle;\n",
       "    }\n",
       "\n",
       "    .dataframe tbody tr th {\n",
       "        vertical-align: top;\n",
       "    }\n",
       "\n",
       "    .dataframe thead th {\n",
       "        text-align: right;\n",
       "    }\n",
       "</style>\n",
       "<table border=\"1\" class=\"dataframe\">\n",
       "  <thead>\n",
       "    <tr style=\"text-align: right;\">\n",
       "      <th></th>\n",
       "      <th>PassengerId</th>\n",
       "      <th>Pclass</th>\n",
       "      <th>Name</th>\n",
       "      <th>Sex</th>\n",
       "      <th>Age</th>\n",
       "      <th>SibSp</th>\n",
       "      <th>Parch</th>\n",
       "      <th>Ticket</th>\n",
       "      <th>Fare</th>\n",
       "      <th>Cabin</th>\n",
       "      <th>Embarked</th>\n",
       "    </tr>\n",
       "  </thead>\n",
       "  <tbody>\n",
       "    <tr>\n",
       "      <th>0</th>\n",
       "      <td>892</td>\n",
       "      <td>3</td>\n",
       "      <td>Kelly, Mr. James</td>\n",
       "      <td>male</td>\n",
       "      <td>34.5</td>\n",
       "      <td>0</td>\n",
       "      <td>0</td>\n",
       "      <td>330911</td>\n",
       "      <td>7.8292</td>\n",
       "      <td>B57 B59 B63 B66</td>\n",
       "      <td>Q</td>\n",
       "    </tr>\n",
       "    <tr>\n",
       "      <th>1</th>\n",
       "      <td>893</td>\n",
       "      <td>3</td>\n",
       "      <td>Wilkes, Mrs. James (Ellen Needs)</td>\n",
       "      <td>female</td>\n",
       "      <td>47.0</td>\n",
       "      <td>1</td>\n",
       "      <td>0</td>\n",
       "      <td>363272</td>\n",
       "      <td>7.0000</td>\n",
       "      <td>B57 B59 B63 B66</td>\n",
       "      <td>S</td>\n",
       "    </tr>\n",
       "    <tr>\n",
       "      <th>2</th>\n",
       "      <td>894</td>\n",
       "      <td>2</td>\n",
       "      <td>Myles, Mr. Thomas Francis</td>\n",
       "      <td>male</td>\n",
       "      <td>62.0</td>\n",
       "      <td>0</td>\n",
       "      <td>0</td>\n",
       "      <td>240276</td>\n",
       "      <td>9.6875</td>\n",
       "      <td>B57 B59 B63 B66</td>\n",
       "      <td>Q</td>\n",
       "    </tr>\n",
       "    <tr>\n",
       "      <th>3</th>\n",
       "      <td>895</td>\n",
       "      <td>3</td>\n",
       "      <td>Wirz, Mr. Albert</td>\n",
       "      <td>male</td>\n",
       "      <td>27.0</td>\n",
       "      <td>0</td>\n",
       "      <td>0</td>\n",
       "      <td>315154</td>\n",
       "      <td>8.6625</td>\n",
       "      <td>B57 B59 B63 B66</td>\n",
       "      <td>S</td>\n",
       "    </tr>\n",
       "    <tr>\n",
       "      <th>4</th>\n",
       "      <td>896</td>\n",
       "      <td>3</td>\n",
       "      <td>Hirvonen, Mrs. Alexander (Helga E Lindqvist)</td>\n",
       "      <td>female</td>\n",
       "      <td>22.0</td>\n",
       "      <td>1</td>\n",
       "      <td>1</td>\n",
       "      <td>3101298</td>\n",
       "      <td>12.2875</td>\n",
       "      <td>B57 B59 B63 B66</td>\n",
       "      <td>S</td>\n",
       "    </tr>\n",
       "  </tbody>\n",
       "</table>\n",
       "</div>"
      ],
      "text/plain": [
       "   PassengerId  Pclass                                          Name     Sex  \\\n",
       "0          892       3                              Kelly, Mr. James    male   \n",
       "1          893       3              Wilkes, Mrs. James (Ellen Needs)  female   \n",
       "2          894       2                     Myles, Mr. Thomas Francis    male   \n",
       "3          895       3                              Wirz, Mr. Albert    male   \n",
       "4          896       3  Hirvonen, Mrs. Alexander (Helga E Lindqvist)  female   \n",
       "\n",
       "    Age  SibSp  Parch   Ticket     Fare            Cabin Embarked  \n",
       "0  34.5      0      0   330911   7.8292  B57 B59 B63 B66        Q  \n",
       "1  47.0      1      0   363272   7.0000  B57 B59 B63 B66        S  \n",
       "2  62.0      0      0   240276   9.6875  B57 B59 B63 B66        Q  \n",
       "3  27.0      0      0   315154   8.6625  B57 B59 B63 B66        S  \n",
       "4  22.0      1      1  3101298  12.2875  B57 B59 B63 B66        S  "
      ]
     },
     "execution_count": 54,
     "metadata": {},
     "output_type": "execute_result"
    }
   ],
   "source": [
    "test_data.head()"
   ]
  },
  {
   "cell_type": "code",
   "execution_count": 55,
   "id": "89589ac2",
   "metadata": {
    "execution": {
     "iopub.execute_input": "2022-06-09T14:18:01.828530Z",
     "iopub.status.busy": "2022-06-09T14:18:01.827874Z",
     "iopub.status.idle": "2022-06-09T14:18:01.841526Z",
     "shell.execute_reply": "2022-06-09T14:18:01.840719Z"
    },
    "papermill": {
     "duration": 0.051978,
     "end_time": "2022-06-09T14:18:01.843558",
     "exception": false,
     "start_time": "2022-06-09T14:18:01.791580",
     "status": "completed"
    },
    "tags": []
   },
   "outputs": [
    {
     "data": {
      "text/html": [
       "<div>\n",
       "<style scoped>\n",
       "    .dataframe tbody tr th:only-of-type {\n",
       "        vertical-align: middle;\n",
       "    }\n",
       "\n",
       "    .dataframe tbody tr th {\n",
       "        vertical-align: top;\n",
       "    }\n",
       "\n",
       "    .dataframe thead th {\n",
       "        text-align: right;\n",
       "    }\n",
       "</style>\n",
       "<table border=\"1\" class=\"dataframe\">\n",
       "  <thead>\n",
       "    <tr style=\"text-align: right;\">\n",
       "      <th></th>\n",
       "      <th>Pclass</th>\n",
       "      <th>Sex</th>\n",
       "      <th>Age</th>\n",
       "      <th>SibSp</th>\n",
       "      <th>Parch</th>\n",
       "      <th>Fare</th>\n",
       "      <th>Embarked</th>\n",
       "    </tr>\n",
       "  </thead>\n",
       "  <tbody>\n",
       "    <tr>\n",
       "      <th>0</th>\n",
       "      <td>3</td>\n",
       "      <td>male</td>\n",
       "      <td>34.5</td>\n",
       "      <td>0</td>\n",
       "      <td>0</td>\n",
       "      <td>7.8292</td>\n",
       "      <td>Q</td>\n",
       "    </tr>\n",
       "    <tr>\n",
       "      <th>1</th>\n",
       "      <td>3</td>\n",
       "      <td>female</td>\n",
       "      <td>47.0</td>\n",
       "      <td>1</td>\n",
       "      <td>0</td>\n",
       "      <td>7.0000</td>\n",
       "      <td>S</td>\n",
       "    </tr>\n",
       "    <tr>\n",
       "      <th>2</th>\n",
       "      <td>2</td>\n",
       "      <td>male</td>\n",
       "      <td>62.0</td>\n",
       "      <td>0</td>\n",
       "      <td>0</td>\n",
       "      <td>9.6875</td>\n",
       "      <td>Q</td>\n",
       "    </tr>\n",
       "    <tr>\n",
       "      <th>3</th>\n",
       "      <td>3</td>\n",
       "      <td>male</td>\n",
       "      <td>27.0</td>\n",
       "      <td>0</td>\n",
       "      <td>0</td>\n",
       "      <td>8.6625</td>\n",
       "      <td>S</td>\n",
       "    </tr>\n",
       "    <tr>\n",
       "      <th>4</th>\n",
       "      <td>3</td>\n",
       "      <td>female</td>\n",
       "      <td>22.0</td>\n",
       "      <td>1</td>\n",
       "      <td>1</td>\n",
       "      <td>12.2875</td>\n",
       "      <td>S</td>\n",
       "    </tr>\n",
       "  </tbody>\n",
       "</table>\n",
       "</div>"
      ],
      "text/plain": [
       "   Pclass     Sex   Age  SibSp  Parch     Fare Embarked\n",
       "0       3    male  34.5      0      0   7.8292        Q\n",
       "1       3  female  47.0      1      0   7.0000        S\n",
       "2       2    male  62.0      0      0   9.6875        Q\n",
       "3       3    male  27.0      0      0   8.6625        S\n",
       "4       3  female  22.0      1      1  12.2875        S"
      ]
     },
     "execution_count": 55,
     "metadata": {},
     "output_type": "execute_result"
    }
   ],
   "source": [
    "sig_data = test_data.drop(['PassengerId', 'Name', 'Cabin', 'Ticket'], axis = 1)\n",
    "sig_data.head()"
   ]
  },
  {
   "cell_type": "code",
   "execution_count": 56,
   "id": "489e9f19",
   "metadata": {
    "execution": {
     "iopub.execute_input": "2022-06-09T14:18:01.916099Z",
     "iopub.status.busy": "2022-06-09T14:18:01.915440Z",
     "iopub.status.idle": "2022-06-09T14:18:01.942554Z",
     "shell.execute_reply": "2022-06-09T14:18:01.941773Z"
    },
    "papermill": {
     "duration": 0.066599,
     "end_time": "2022-06-09T14:18:01.944832",
     "exception": false,
     "start_time": "2022-06-09T14:18:01.878233",
     "status": "completed"
    },
    "tags": []
   },
   "outputs": [
    {
     "data": {
      "text/html": [
       "<div>\n",
       "<style scoped>\n",
       "    .dataframe tbody tr th:only-of-type {\n",
       "        vertical-align: middle;\n",
       "    }\n",
       "\n",
       "    .dataframe tbody tr th {\n",
       "        vertical-align: top;\n",
       "    }\n",
       "\n",
       "    .dataframe thead th {\n",
       "        text-align: right;\n",
       "    }\n",
       "</style>\n",
       "<table border=\"1\" class=\"dataframe\">\n",
       "  <thead>\n",
       "    <tr style=\"text-align: right;\">\n",
       "      <th></th>\n",
       "      <th>Age</th>\n",
       "      <th>Fare</th>\n",
       "      <th>Pclass_1</th>\n",
       "      <th>Pclass_2</th>\n",
       "      <th>Pclass_3</th>\n",
       "      <th>Sex_female</th>\n",
       "      <th>Sex_male</th>\n",
       "      <th>SibSp_0</th>\n",
       "      <th>SibSp_1</th>\n",
       "      <th>SibSp_2</th>\n",
       "      <th>...</th>\n",
       "      <th>Parch_0</th>\n",
       "      <th>Parch_1</th>\n",
       "      <th>Parch_2</th>\n",
       "      <th>Parch_3</th>\n",
       "      <th>Parch_4</th>\n",
       "      <th>Parch_5</th>\n",
       "      <th>Parch_6</th>\n",
       "      <th>Embarked_C</th>\n",
       "      <th>Embarked_Q</th>\n",
       "      <th>Embarked_S</th>\n",
       "    </tr>\n",
       "  </thead>\n",
       "  <tbody>\n",
       "    <tr>\n",
       "      <th>0</th>\n",
       "      <td>34.5</td>\n",
       "      <td>7.8292</td>\n",
       "      <td>0</td>\n",
       "      <td>0</td>\n",
       "      <td>1</td>\n",
       "      <td>0</td>\n",
       "      <td>1</td>\n",
       "      <td>1</td>\n",
       "      <td>0</td>\n",
       "      <td>0</td>\n",
       "      <td>...</td>\n",
       "      <td>1</td>\n",
       "      <td>0</td>\n",
       "      <td>0</td>\n",
       "      <td>0</td>\n",
       "      <td>0</td>\n",
       "      <td>0</td>\n",
       "      <td>0</td>\n",
       "      <td>0</td>\n",
       "      <td>1</td>\n",
       "      <td>0</td>\n",
       "    </tr>\n",
       "    <tr>\n",
       "      <th>1</th>\n",
       "      <td>47.0</td>\n",
       "      <td>7.0000</td>\n",
       "      <td>0</td>\n",
       "      <td>0</td>\n",
       "      <td>1</td>\n",
       "      <td>1</td>\n",
       "      <td>0</td>\n",
       "      <td>0</td>\n",
       "      <td>1</td>\n",
       "      <td>0</td>\n",
       "      <td>...</td>\n",
       "      <td>1</td>\n",
       "      <td>0</td>\n",
       "      <td>0</td>\n",
       "      <td>0</td>\n",
       "      <td>0</td>\n",
       "      <td>0</td>\n",
       "      <td>0</td>\n",
       "      <td>0</td>\n",
       "      <td>0</td>\n",
       "      <td>1</td>\n",
       "    </tr>\n",
       "    <tr>\n",
       "      <th>2</th>\n",
       "      <td>62.0</td>\n",
       "      <td>9.6875</td>\n",
       "      <td>0</td>\n",
       "      <td>1</td>\n",
       "      <td>0</td>\n",
       "      <td>0</td>\n",
       "      <td>1</td>\n",
       "      <td>1</td>\n",
       "      <td>0</td>\n",
       "      <td>0</td>\n",
       "      <td>...</td>\n",
       "      <td>1</td>\n",
       "      <td>0</td>\n",
       "      <td>0</td>\n",
       "      <td>0</td>\n",
       "      <td>0</td>\n",
       "      <td>0</td>\n",
       "      <td>0</td>\n",
       "      <td>0</td>\n",
       "      <td>1</td>\n",
       "      <td>0</td>\n",
       "    </tr>\n",
       "    <tr>\n",
       "      <th>3</th>\n",
       "      <td>27.0</td>\n",
       "      <td>8.6625</td>\n",
       "      <td>0</td>\n",
       "      <td>0</td>\n",
       "      <td>1</td>\n",
       "      <td>0</td>\n",
       "      <td>1</td>\n",
       "      <td>1</td>\n",
       "      <td>0</td>\n",
       "      <td>0</td>\n",
       "      <td>...</td>\n",
       "      <td>1</td>\n",
       "      <td>0</td>\n",
       "      <td>0</td>\n",
       "      <td>0</td>\n",
       "      <td>0</td>\n",
       "      <td>0</td>\n",
       "      <td>0</td>\n",
       "      <td>0</td>\n",
       "      <td>0</td>\n",
       "      <td>1</td>\n",
       "    </tr>\n",
       "    <tr>\n",
       "      <th>4</th>\n",
       "      <td>22.0</td>\n",
       "      <td>12.2875</td>\n",
       "      <td>0</td>\n",
       "      <td>0</td>\n",
       "      <td>1</td>\n",
       "      <td>1</td>\n",
       "      <td>0</td>\n",
       "      <td>0</td>\n",
       "      <td>1</td>\n",
       "      <td>0</td>\n",
       "      <td>...</td>\n",
       "      <td>0</td>\n",
       "      <td>1</td>\n",
       "      <td>0</td>\n",
       "      <td>0</td>\n",
       "      <td>0</td>\n",
       "      <td>0</td>\n",
       "      <td>0</td>\n",
       "      <td>0</td>\n",
       "      <td>0</td>\n",
       "      <td>1</td>\n",
       "    </tr>\n",
       "  </tbody>\n",
       "</table>\n",
       "<p>5 rows × 24 columns</p>\n",
       "</div>"
      ],
      "text/plain": [
       "    Age     Fare  Pclass_1  Pclass_2  Pclass_3  Sex_female  Sex_male  SibSp_0  \\\n",
       "0  34.5   7.8292         0         0         1           0         1        1   \n",
       "1  47.0   7.0000         0         0         1           1         0        0   \n",
       "2  62.0   9.6875         0         1         0           0         1        1   \n",
       "3  27.0   8.6625         0         0         1           0         1        1   \n",
       "4  22.0  12.2875         0         0         1           1         0        0   \n",
       "\n",
       "   SibSp_1  SibSp_2  ...  Parch_0  Parch_1  Parch_2  Parch_3  Parch_4  \\\n",
       "0        0        0  ...        1        0        0        0        0   \n",
       "1        1        0  ...        1        0        0        0        0   \n",
       "2        0        0  ...        1        0        0        0        0   \n",
       "3        0        0  ...        1        0        0        0        0   \n",
       "4        1        0  ...        0        1        0        0        0   \n",
       "\n",
       "   Parch_5  Parch_6  Embarked_C  Embarked_Q  Embarked_S  \n",
       "0        0        0           0           1           0  \n",
       "1        0        0           0           0           1  \n",
       "2        0        0           0           1           0  \n",
       "3        0        0           0           0           1  \n",
       "4        0        0           0           0           1  \n",
       "\n",
       "[5 rows x 24 columns]"
      ]
     },
     "execution_count": 56,
     "metadata": {},
     "output_type": "execute_result"
    }
   ],
   "source": [
    "sig_data = pd.get_dummies(sig_data, columns = ['Pclass', 'Sex', 'SibSp','Parch', 'Embarked'])\n",
    "sig_data = sig_data.drop(['Parch_9'], axis = 1)\n",
    "sig_data.head()"
   ]
  },
  {
   "cell_type": "code",
   "execution_count": 57,
   "id": "0fba9ff9",
   "metadata": {
    "execution": {
     "iopub.execute_input": "2022-06-09T14:18:02.019083Z",
     "iopub.status.busy": "2022-06-09T14:18:02.018436Z",
     "iopub.status.idle": "2022-06-09T14:18:02.048551Z",
     "shell.execute_reply": "2022-06-09T14:18:02.047806Z"
    },
    "papermill": {
     "duration": 0.070427,
     "end_time": "2022-06-09T14:18:02.050780",
     "exception": false,
     "start_time": "2022-06-09T14:18:01.980353",
     "status": "completed"
    },
    "tags": []
   },
   "outputs": [
    {
     "data": {
      "text/html": [
       "<div>\n",
       "<style scoped>\n",
       "    .dataframe tbody tr th:only-of-type {\n",
       "        vertical-align: middle;\n",
       "    }\n",
       "\n",
       "    .dataframe tbody tr th {\n",
       "        vertical-align: top;\n",
       "    }\n",
       "\n",
       "    .dataframe thead th {\n",
       "        text-align: right;\n",
       "    }\n",
       "</style>\n",
       "<table border=\"1\" class=\"dataframe\">\n",
       "  <thead>\n",
       "    <tr style=\"text-align: right;\">\n",
       "      <th></th>\n",
       "      <th>Age</th>\n",
       "      <th>Fare</th>\n",
       "      <th>Pclass_1</th>\n",
       "      <th>Pclass_2</th>\n",
       "      <th>Pclass_3</th>\n",
       "      <th>Sex_female</th>\n",
       "      <th>Sex_male</th>\n",
       "      <th>SibSp_0</th>\n",
       "      <th>SibSp_1</th>\n",
       "      <th>SibSp_2</th>\n",
       "      <th>...</th>\n",
       "      <th>Parch_0</th>\n",
       "      <th>Parch_1</th>\n",
       "      <th>Parch_2</th>\n",
       "      <th>Parch_3</th>\n",
       "      <th>Parch_4</th>\n",
       "      <th>Parch_5</th>\n",
       "      <th>Parch_6</th>\n",
       "      <th>Embarked_C</th>\n",
       "      <th>Embarked_Q</th>\n",
       "      <th>Embarked_S</th>\n",
       "    </tr>\n",
       "  </thead>\n",
       "  <tbody>\n",
       "    <tr>\n",
       "      <th>0</th>\n",
       "      <td>0.339424</td>\n",
       "      <td>-0.498407</td>\n",
       "      <td>-0.586559</td>\n",
       "      <td>-0.534933</td>\n",
       "      <td>0.957826</td>\n",
       "      <td>-0.755929</td>\n",
       "      <td>0.755929</td>\n",
       "      <td>0.690675</td>\n",
       "      <td>-0.597614</td>\n",
       "      <td>-0.186154</td>\n",
       "      <td>...</td>\n",
       "      <td>0.538631</td>\n",
       "      <td>-0.37693</td>\n",
       "      <td>-0.29277</td>\n",
       "      <td>-0.085023</td>\n",
       "      <td>-0.069338</td>\n",
       "      <td>-0.04897</td>\n",
       "      <td>-0.04897</td>\n",
       "      <td>-0.568142</td>\n",
       "      <td>2.843757</td>\n",
       "      <td>-1.350676</td>\n",
       "    </tr>\n",
       "    <tr>\n",
       "      <th>1</th>\n",
       "      <td>1.329924</td>\n",
       "      <td>-0.513274</td>\n",
       "      <td>-0.586559</td>\n",
       "      <td>-0.534933</td>\n",
       "      <td>0.957826</td>\n",
       "      <td>1.322876</td>\n",
       "      <td>-1.322876</td>\n",
       "      <td>-1.447859</td>\n",
       "      <td>1.673320</td>\n",
       "      <td>-0.186154</td>\n",
       "      <td>...</td>\n",
       "      <td>0.538631</td>\n",
       "      <td>-0.37693</td>\n",
       "      <td>-0.29277</td>\n",
       "      <td>-0.085023</td>\n",
       "      <td>-0.069338</td>\n",
       "      <td>-0.04897</td>\n",
       "      <td>-0.04897</td>\n",
       "      <td>-0.568142</td>\n",
       "      <td>-0.351647</td>\n",
       "      <td>0.740370</td>\n",
       "    </tr>\n",
       "    <tr>\n",
       "      <th>2</th>\n",
       "      <td>2.518523</td>\n",
       "      <td>-0.465088</td>\n",
       "      <td>-0.586559</td>\n",
       "      <td>1.869391</td>\n",
       "      <td>-1.044031</td>\n",
       "      <td>-0.755929</td>\n",
       "      <td>0.755929</td>\n",
       "      <td>0.690675</td>\n",
       "      <td>-0.597614</td>\n",
       "      <td>-0.186154</td>\n",
       "      <td>...</td>\n",
       "      <td>0.538631</td>\n",
       "      <td>-0.37693</td>\n",
       "      <td>-0.29277</td>\n",
       "      <td>-0.085023</td>\n",
       "      <td>-0.069338</td>\n",
       "      <td>-0.04897</td>\n",
       "      <td>-0.04897</td>\n",
       "      <td>-0.568142</td>\n",
       "      <td>2.843757</td>\n",
       "      <td>-1.350676</td>\n",
       "    </tr>\n",
       "    <tr>\n",
       "      <th>3</th>\n",
       "      <td>-0.254876</td>\n",
       "      <td>-0.483466</td>\n",
       "      <td>-0.586559</td>\n",
       "      <td>-0.534933</td>\n",
       "      <td>0.957826</td>\n",
       "      <td>-0.755929</td>\n",
       "      <td>0.755929</td>\n",
       "      <td>0.690675</td>\n",
       "      <td>-0.597614</td>\n",
       "      <td>-0.186154</td>\n",
       "      <td>...</td>\n",
       "      <td>0.538631</td>\n",
       "      <td>-0.37693</td>\n",
       "      <td>-0.29277</td>\n",
       "      <td>-0.085023</td>\n",
       "      <td>-0.069338</td>\n",
       "      <td>-0.04897</td>\n",
       "      <td>-0.04897</td>\n",
       "      <td>-0.568142</td>\n",
       "      <td>-0.351647</td>\n",
       "      <td>0.740370</td>\n",
       "    </tr>\n",
       "    <tr>\n",
       "      <th>4</th>\n",
       "      <td>-0.651076</td>\n",
       "      <td>-0.418471</td>\n",
       "      <td>-0.586559</td>\n",
       "      <td>-0.534933</td>\n",
       "      <td>0.957826</td>\n",
       "      <td>1.322876</td>\n",
       "      <td>-1.322876</td>\n",
       "      <td>-1.447859</td>\n",
       "      <td>1.673320</td>\n",
       "      <td>-0.186154</td>\n",
       "      <td>...</td>\n",
       "      <td>-1.856558</td>\n",
       "      <td>2.65301</td>\n",
       "      <td>-0.29277</td>\n",
       "      <td>-0.085023</td>\n",
       "      <td>-0.069338</td>\n",
       "      <td>-0.04897</td>\n",
       "      <td>-0.04897</td>\n",
       "      <td>-0.568142</td>\n",
       "      <td>-0.351647</td>\n",
       "      <td>0.740370</td>\n",
       "    </tr>\n",
       "  </tbody>\n",
       "</table>\n",
       "<p>5 rows × 24 columns</p>\n",
       "</div>"
      ],
      "text/plain": [
       "        Age      Fare  Pclass_1  Pclass_2  Pclass_3  Sex_female  Sex_male  \\\n",
       "0  0.339424 -0.498407 -0.586559 -0.534933  0.957826   -0.755929  0.755929   \n",
       "1  1.329924 -0.513274 -0.586559 -0.534933  0.957826    1.322876 -1.322876   \n",
       "2  2.518523 -0.465088 -0.586559  1.869391 -1.044031   -0.755929  0.755929   \n",
       "3 -0.254876 -0.483466 -0.586559 -0.534933  0.957826   -0.755929  0.755929   \n",
       "4 -0.651076 -0.418471 -0.586559 -0.534933  0.957826    1.322876 -1.322876   \n",
       "\n",
       "    SibSp_0   SibSp_1   SibSp_2  ...   Parch_0  Parch_1  Parch_2   Parch_3  \\\n",
       "0  0.690675 -0.597614 -0.186154  ...  0.538631 -0.37693 -0.29277 -0.085023   \n",
       "1 -1.447859  1.673320 -0.186154  ...  0.538631 -0.37693 -0.29277 -0.085023   \n",
       "2  0.690675 -0.597614 -0.186154  ...  0.538631 -0.37693 -0.29277 -0.085023   \n",
       "3  0.690675 -0.597614 -0.186154  ...  0.538631 -0.37693 -0.29277 -0.085023   \n",
       "4 -1.447859  1.673320 -0.186154  ... -1.856558  2.65301 -0.29277 -0.085023   \n",
       "\n",
       "    Parch_4  Parch_5  Parch_6  Embarked_C  Embarked_Q  Embarked_S  \n",
       "0 -0.069338 -0.04897 -0.04897   -0.568142    2.843757   -1.350676  \n",
       "1 -0.069338 -0.04897 -0.04897   -0.568142   -0.351647    0.740370  \n",
       "2 -0.069338 -0.04897 -0.04897   -0.568142    2.843757   -1.350676  \n",
       "3 -0.069338 -0.04897 -0.04897   -0.568142   -0.351647    0.740370  \n",
       "4 -0.069338 -0.04897 -0.04897   -0.568142   -0.351647    0.740370  \n",
       "\n",
       "[5 rows x 24 columns]"
      ]
     },
     "execution_count": 57,
     "metadata": {},
     "output_type": "execute_result"
    }
   ],
   "source": [
    "# Normalizing independent data using Standard Scaler\n",
    "\n",
    "from sklearn.preprocessing import StandardScaler\n",
    "\n",
    "# create an instance\n",
    "scaler = StandardScaler()\n",
    "\n",
    "test_x_data = scaler.fit_transform(sig_data)\n",
    "test_x_data = pd.DataFrame(test_x_data, columns=sig_data.columns)\n",
    "test_x_data.head()"
   ]
  },
  {
   "cell_type": "code",
   "execution_count": 58,
   "id": "d8f37417",
   "metadata": {
    "execution": {
     "iopub.execute_input": "2022-06-09T14:18:02.124278Z",
     "iopub.status.busy": "2022-06-09T14:18:02.123625Z",
     "iopub.status.idle": "2022-06-09T14:18:02.133559Z",
     "shell.execute_reply": "2022-06-09T14:18:02.132743Z"
    },
    "papermill": {
     "duration": 0.049564,
     "end_time": "2022-06-09T14:18:02.135850",
     "exception": false,
     "start_time": "2022-06-09T14:18:02.086286",
     "status": "completed"
    },
    "tags": []
   },
   "outputs": [],
   "source": [
    "## Predicting using the trained kfold model\n",
    "from sklearn.model_selection import KFold # for validation\n",
    "\n",
    "def cv_score(ml_model, rstate = 42,cols = x_data.columns):\n",
    "    #initialize\n",
    "    i = 1\n",
    "    cv_scores = []\n",
    "    \n",
    "    # data\n",
    "    df1 = x_data.copy()\n",
    "    df1 = x_data[cols]\n",
    "    df_y = y_data\n",
    "    \n",
    "    # initialize kfold\n",
    "    kf = KFold(n_splits=5,random_state=rstate,shuffle=True)\n",
    "    \n",
    "    for train_index,test_index in kf.split(df1,df_y):\n",
    "        print('\\n{} of kfold {}'.format(i,kf.n_splits))\n",
    "        \n",
    "        xtr,xvl = df1.loc[train_index],df1.loc[test_index]\n",
    "        ytr,yvl = df_y[train_index],df_y[test_index]\n",
    "\n",
    "        model = ml_model\n",
    "        model.fit(xtr, ytr)\n",
    "        \n",
    "        train_val = model.predict(xtr)\n",
    "        pred_val = model.predict(xvl)\n",
    "        \n",
    "        f1score_train = f1_score(ytr, train_val)\n",
    "        f1score = f1_score(yvl, pred_val)\n",
    "        \n",
    "        sufix = \"\"\n",
    "        msg = \"\"\n",
    "        msg += \"Valid f1score: {:.5f}\".format(f1score)\n",
    "        print(\"{}\".format(msg))\n",
    "        # Save scores\n",
    "        cv_scores.append(f1score)\n",
    "        i+=1\n",
    "    return cv_scores"
   ]
  },
  {
   "cell_type": "code",
   "execution_count": 59,
   "id": "6f803ed5",
   "metadata": {
    "execution": {
     "iopub.execute_input": "2022-06-09T14:18:02.210206Z",
     "iopub.status.busy": "2022-06-09T14:18:02.209547Z",
     "iopub.status.idle": "2022-06-09T14:18:02.590092Z",
     "shell.execute_reply": "2022-06-09T14:18:02.588791Z"
    },
    "papermill": {
     "duration": 0.421797,
     "end_time": "2022-06-09T14:18:02.594088",
     "exception": false,
     "start_time": "2022-06-09T14:18:02.172291",
     "status": "completed"
    },
    "tags": []
   },
   "outputs": [
    {
     "name": "stdout",
     "output_type": "stream",
     "text": [
      "\n",
      "1 of kfold 5\n",
      "Valid f1score: 0.74648\n",
      "\n",
      "2 of kfold 5\n",
      "Valid f1score: 0.73171\n",
      "\n",
      "3 of kfold 5\n",
      "Valid f1score: 0.81159\n",
      "\n",
      "4 of kfold 5\n",
      "Valid f1score: 0.65600\n",
      "\n",
      "5 of kfold 5\n",
      "Valid f1score: 0.73846\n"
     ]
    }
   ],
   "source": [
    "logreg_kfold = cv_score(LogReg())"
   ]
  },
  {
   "cell_type": "markdown",
   "id": "ff1a6636",
   "metadata": {
    "papermill": {
     "duration": 0.052469,
     "end_time": "2022-06-09T14:18:02.714125",
     "exception": false,
     "start_time": "2022-06-09T14:18:02.661656",
     "status": "completed"
    },
    "tags": []
   },
   "source": [
    "- Highest F1 score metric using logistic linear regression model with 3 folds. \n",
    "- Train model using this on train dataset\n",
    "- Predict on test dataset.\n"
   ]
  },
  {
   "cell_type": "code",
   "execution_count": 60,
   "id": "899caaf6",
   "metadata": {
    "execution": {
     "iopub.execute_input": "2022-06-09T14:18:02.789168Z",
     "iopub.status.busy": "2022-06-09T14:18:02.788809Z",
     "iopub.status.idle": "2022-06-09T14:18:02.793558Z",
     "shell.execute_reply": "2022-06-09T14:18:02.792423Z"
    },
    "papermill": {
     "duration": 0.044493,
     "end_time": "2022-06-09T14:18:02.795614",
     "exception": false,
     "start_time": "2022-06-09T14:18:02.751121",
     "status": "completed"
    },
    "tags": []
   },
   "outputs": [],
   "source": [
    "kf = KFold(n_splits=3,random_state=42,shuffle=True)\n",
    "    \n",
    "test_model = LogReg()"
   ]
  },
  {
   "cell_type": "code",
   "execution_count": 61,
   "id": "d3ef1be1",
   "metadata": {
    "execution": {
     "iopub.execute_input": "2022-06-09T14:18:02.868916Z",
     "iopub.status.busy": "2022-06-09T14:18:02.868536Z",
     "iopub.status.idle": "2022-06-09T14:18:02.948960Z",
     "shell.execute_reply": "2022-06-09T14:18:02.947768Z"
    },
    "papermill": {
     "duration": 0.123651,
     "end_time": "2022-06-09T14:18:02.954830",
     "exception": false,
     "start_time": "2022-06-09T14:18:02.831179",
     "status": "completed"
    },
    "tags": []
   },
   "outputs": [
    {
     "name": "stdout",
     "output_type": "stream",
     "text": [
      "Accuracy: 80.386% (3.421%)\n"
     ]
    }
   ],
   "source": [
    "\n",
    "from sklearn.model_selection import cross_val_score\n",
    "results = cross_val_score(test_model, xtrain, ytrain, cv=kf)\n",
    "\n",
    "# Output the accuracy. Calculate the mean and std across all folds. \n",
    "print(\"Accuracy: %.3f%% (%.3f%%)\" % (results.mean()*100.0, results.std()*100.0))"
   ]
  },
  {
   "cell_type": "code",
   "execution_count": 62,
   "id": "45143997",
   "metadata": {
    "execution": {
     "iopub.execute_input": "2022-06-09T14:18:03.083794Z",
     "iopub.status.busy": "2022-06-09T14:18:03.083383Z",
     "iopub.status.idle": "2022-06-09T14:18:03.109026Z",
     "shell.execute_reply": "2022-06-09T14:18:03.108091Z"
    },
    "papermill": {
     "duration": 0.086551,
     "end_time": "2022-06-09T14:18:03.112099",
     "exception": false,
     "start_time": "2022-06-09T14:18:03.025548",
     "status": "completed"
    },
    "tags": []
   },
   "outputs": [
    {
     "data": {
      "text/plain": [
       "LogisticRegression()"
      ]
     },
     "execution_count": 62,
     "metadata": {},
     "output_type": "execute_result"
    }
   ],
   "source": [
    "test_model.fit(xtrain, ytrain)"
   ]
  },
  {
   "cell_type": "code",
   "execution_count": 63,
   "id": "e9ab9728",
   "metadata": {
    "execution": {
     "iopub.execute_input": "2022-06-09T14:18:03.237392Z",
     "iopub.status.busy": "2022-06-09T14:18:03.236961Z",
     "iopub.status.idle": "2022-06-09T14:18:03.250959Z",
     "shell.execute_reply": "2022-06-09T14:18:03.249870Z"
    },
    "papermill": {
     "duration": 0.07796,
     "end_time": "2022-06-09T14:18:03.257062",
     "exception": false,
     "start_time": "2022-06-09T14:18:03.179102",
     "status": "completed"
    },
    "tags": []
   },
   "outputs": [
    {
     "data": {
      "text/plain": [
       "array([0, 0, 0, 0, 1, 0, 1, 0, 1, 0, 0, 0, 1, 0, 1, 1, 0, 0, 1, 0, 0, 0,\n",
       "       1, 1, 1, 0, 1, 0, 0, 0, 0, 0, 1, 1, 0, 0, 0, 1, 0, 0, 0, 0, 0, 1,\n",
       "       1, 0, 0, 0, 1, 0, 0, 0, 1, 0, 0, 0, 0, 0, 0, 1, 0, 0, 0, 1, 1, 1,\n",
       "       1, 0, 0, 0, 1, 0, 1, 0, 1, 1, 0, 1, 0, 1, 0, 0, 0, 0, 0, 0, 1, 1,\n",
       "       1, 1, 1, 0, 1, 0, 1, 0, 1, 0, 1, 0, 1, 0, 0, 0, 1, 0, 0, 0, 0, 0,\n",
       "       0, 1, 1, 1, 1, 0, 0, 1, 0, 1, 1, 0, 1, 0, 0, 1, 0, 1, 0, 0, 0, 0,\n",
       "       0, 0, 0, 0, 0, 0, 1, 0, 0, 1, 0, 0, 0, 0, 0, 0, 0, 0, 1, 0, 0, 0,\n",
       "       0, 0, 1, 1, 0, 1, 1, 0, 1, 0, 0, 1, 0, 0, 1, 1, 0, 0, 0, 0, 0, 1,\n",
       "       1, 0, 1, 1, 0, 1, 1, 0, 1, 0, 1, 0, 0, 0, 0, 0, 0, 0, 0, 0, 1, 1,\n",
       "       0, 0, 1, 0, 0, 1, 0, 0, 1, 0, 1, 0, 0, 0, 0, 1, 0, 0, 1, 0, 1, 0,\n",
       "       1, 0, 1, 0, 1, 1, 0, 1, 0, 0, 0, 1, 0, 0, 0, 0, 0, 0, 1, 1, 1, 1,\n",
       "       0, 0, 0, 0, 1, 0, 1, 1, 1, 0, 1, 0, 0, 0, 0, 0, 1, 0, 0, 0, 1, 1,\n",
       "       0, 0, 0, 0, 0, 0, 0, 0, 1, 1, 0, 1, 0, 0, 0, 0, 1, 0, 1, 1, 1, 0,\n",
       "       0, 0, 0, 0, 0, 1, 0, 0, 0, 0, 1, 0, 0, 0, 0, 0, 0, 0, 1, 1, 0, 0,\n",
       "       0, 0, 0, 0, 0, 0, 1, 1, 0, 0, 0, 0, 0, 0, 0, 0, 1, 0, 1, 0, 0, 0,\n",
       "       1, 0, 0, 1, 0, 0, 0, 0, 0, 0, 0, 0, 0, 1, 0, 1, 0, 1, 0, 1, 1, 0,\n",
       "       0, 0, 1, 0, 1, 0, 0, 1, 0, 1, 1, 0, 1, 1, 0, 1, 1, 0, 0, 1, 0, 0,\n",
       "       1, 1, 1, 0, 0, 0, 0, 0, 0, 1, 0, 1, 0, 0, 0, 0, 0, 1, 0, 0, 0, 1,\n",
       "       0, 1, 0, 0, 1, 0, 1, 1, 0, 0, 0, 0, 1, 1, 1, 1, 1, 0, 1, 0, 0, 0])"
      ]
     },
     "execution_count": 63,
     "metadata": {},
     "output_type": "execute_result"
    }
   ],
   "source": [
    "predicted = test_model.predict(test_x_data)\n",
    "predicted"
   ]
  },
  {
   "cell_type": "code",
   "execution_count": 64,
   "id": "3116fcfe",
   "metadata": {
    "execution": {
     "iopub.execute_input": "2022-06-09T14:18:03.381400Z",
     "iopub.status.busy": "2022-06-09T14:18:03.380980Z",
     "iopub.status.idle": "2022-06-09T14:18:03.386774Z",
     "shell.execute_reply": "2022-06-09T14:18:03.385912Z"
    },
    "papermill": {
     "duration": 0.06333,
     "end_time": "2022-06-09T14:18:03.388729",
     "exception": false,
     "start_time": "2022-06-09T14:18:03.325399",
     "status": "completed"
    },
    "tags": []
   },
   "outputs": [],
   "source": [
    "final_result = pd.DataFrame({\n",
    "    'PassengerId' : test_data['PassengerId'],\n",
    "    'Survived' : predicted\n",
    "})"
   ]
  },
  {
   "cell_type": "code",
   "execution_count": 65,
   "id": "ee5bfd6a",
   "metadata": {
    "execution": {
     "iopub.execute_input": "2022-06-09T14:18:03.462961Z",
     "iopub.status.busy": "2022-06-09T14:18:03.461699Z",
     "iopub.status.idle": "2022-06-09T14:18:03.471451Z",
     "shell.execute_reply": "2022-06-09T14:18:03.470520Z"
    },
    "papermill": {
     "duration": 0.04882,
     "end_time": "2022-06-09T14:18:03.473396",
     "exception": false,
     "start_time": "2022-06-09T14:18:03.424576",
     "status": "completed"
    },
    "tags": []
   },
   "outputs": [
    {
     "data": {
      "text/html": [
       "<div>\n",
       "<style scoped>\n",
       "    .dataframe tbody tr th:only-of-type {\n",
       "        vertical-align: middle;\n",
       "    }\n",
       "\n",
       "    .dataframe tbody tr th {\n",
       "        vertical-align: top;\n",
       "    }\n",
       "\n",
       "    .dataframe thead th {\n",
       "        text-align: right;\n",
       "    }\n",
       "</style>\n",
       "<table border=\"1\" class=\"dataframe\">\n",
       "  <thead>\n",
       "    <tr style=\"text-align: right;\">\n",
       "      <th></th>\n",
       "      <th>PassengerId</th>\n",
       "      <th>Survived</th>\n",
       "    </tr>\n",
       "  </thead>\n",
       "  <tbody>\n",
       "    <tr>\n",
       "      <th>0</th>\n",
       "      <td>892</td>\n",
       "      <td>0</td>\n",
       "    </tr>\n",
       "    <tr>\n",
       "      <th>1</th>\n",
       "      <td>893</td>\n",
       "      <td>0</td>\n",
       "    </tr>\n",
       "    <tr>\n",
       "      <th>2</th>\n",
       "      <td>894</td>\n",
       "      <td>0</td>\n",
       "    </tr>\n",
       "    <tr>\n",
       "      <th>3</th>\n",
       "      <td>895</td>\n",
       "      <td>0</td>\n",
       "    </tr>\n",
       "    <tr>\n",
       "      <th>4</th>\n",
       "      <td>896</td>\n",
       "      <td>1</td>\n",
       "    </tr>\n",
       "  </tbody>\n",
       "</table>\n",
       "</div>"
      ],
      "text/plain": [
       "   PassengerId  Survived\n",
       "0          892         0\n",
       "1          893         0\n",
       "2          894         0\n",
       "3          895         0\n",
       "4          896         1"
      ]
     },
     "execution_count": 65,
     "metadata": {},
     "output_type": "execute_result"
    }
   ],
   "source": [
    "final_result.head()"
   ]
  },
  {
   "cell_type": "code",
   "execution_count": 66,
   "id": "80df193f",
   "metadata": {
    "execution": {
     "iopub.execute_input": "2022-06-09T14:18:03.549076Z",
     "iopub.status.busy": "2022-06-09T14:18:03.548360Z",
     "iopub.status.idle": "2022-06-09T14:18:03.557240Z",
     "shell.execute_reply": "2022-06-09T14:18:03.556417Z"
    },
    "papermill": {
     "duration": 0.049291,
     "end_time": "2022-06-09T14:18:03.559681",
     "exception": false,
     "start_time": "2022-06-09T14:18:03.510390",
     "status": "completed"
    },
    "tags": []
   },
   "outputs": [],
   "source": [
    "final_result.to_csv('./submission.csv', index = False)"
   ]
  }
 ],
 "metadata": {
  "kernelspec": {
   "display_name": "Python 3",
   "language": "python",
   "name": "python3"
  },
  "language_info": {
   "codemirror_mode": {
    "name": "ipython",
    "version": 3
   },
   "file_extension": ".py",
   "mimetype": "text/x-python",
   "name": "python",
   "nbconvert_exporter": "python",
   "pygments_lexer": "ipython3",
   "version": "3.7.12"
  },
  "papermill": {
   "default_parameters": {},
   "duration": 28.09958,
   "end_time": "2022-06-09T14:18:04.521752",
   "environment_variables": {},
   "exception": null,
   "input_path": "__notebook__.ipynb",
   "output_path": "__notebook__.ipynb",
   "parameters": {},
   "start_time": "2022-06-09T14:17:36.422172",
   "version": "2.3.4"
  }
 },
 "nbformat": 4,
 "nbformat_minor": 5
}
